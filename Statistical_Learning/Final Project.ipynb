{
 "cells": [
  {
   "cell_type": "code",
   "execution_count": 3,
   "metadata": {},
   "outputs": [],
   "source": [
    "from tensorflow.keras.datasets import cifar10\n",
    "(X_train, y_train), (X_test, y_test) = cifar10.load_data()"
   ]
  },
  {
   "cell_type": "code",
   "execution_count": 4,
   "metadata": {},
   "outputs": [],
   "source": [
    "import matplotlib as mpl\n",
    "import matplotlib.pyplot as plt\n",
    "import numpy as np\n",
    "import pandas as pd\n",
    "from sklearn.metrics import accuracy_score, recall_score, precision_score, confusion_matrix, \\\n",
    "    roc_auc_score, roc_curve, precision_recall_curve\n",
    "from sklearn.model_selection import GridSearchCV\n",
    "from sklearn.preprocessing import StandardScaler\n"
   ]
  },
  {
   "cell_type": "code",
   "execution_count": 5,
   "metadata": {},
   "outputs": [],
   "source": [
    "from sklearn.svm import SVC\n",
    "from sklearn.ensemble import RandomForestClassifier\n",
    "from sklearn.ensemble import GradientBoostingClassifier"
   ]
  },
  {
   "cell_type": "code",
   "execution_count": 6,
   "metadata": {},
   "outputs": [
    {
     "data": {
      "text/plain": [
       "(50000, 32, 32, 3)"
      ]
     },
     "execution_count": 6,
     "metadata": {},
     "output_type": "execute_result"
    }
   ],
   "source": [
    "X_train.shape"
   ]
  },
  {
   "cell_type": "code",
   "execution_count": 7,
   "metadata": {},
   "outputs": [
    {
     "data": {
      "text/plain": [
       "<matplotlib.image.AxesImage at 0x7f984c92bdc0>"
      ]
     },
     "execution_count": 7,
     "metadata": {},
     "output_type": "execute_result"
    },
    {
     "data": {
      "image/png": "[encoded data removed]",
      "text/plain": [
       "<Figure size 432x288 with 1 Axes>"
      ]
     },
     "metadata": {
      "needs_background": "light"
     },
     "output_type": "display_data"
    }
   ],
   "source": [
    "plt.imshow(X_train[4])"
   ]
  },
  {
   "cell_type": "code",
   "execution_count": 8,
   "metadata": {},
   "outputs": [],
   "source": [
    "car_truck_index = np.where((y_train == 1) | (y_train == 9))[0]"
   ]
  },
  {
   "cell_type": "code",
   "execution_count": 9,
   "metadata": {},
   "outputs": [],
   "source": [
    "Xtrain = X_train[car_truck_index]\n",
    "ytrain = y_train[car_truck_index]"
   ]
  },
  {
   "cell_type": "code",
   "execution_count": 10,
   "metadata": {},
   "outputs": [
    {
     "data": {
      "text/plain": [
       "<matplotlib.image.AxesImage at 0x7f984c984820>"
      ]
     },
     "execution_count": 10,
     "metadata": {},
     "output_type": "execute_result"
    },
    {
     "data": {
      "image/png": "[encoded data removed]",
      "text/plain": [
       "<Figure size 432x288 with 1 Axes>"
      ]
     },
     "metadata": {
      "needs_background": "light"
     },
     "output_type": "display_data"
    }
   ],
   "source": [
    "plt.imshow(Xtrain[5])"
   ]
  },
  {
   "cell_type": "code",
   "execution_count": 11,
   "metadata": {},
   "outputs": [],
   "source": [
    "car_truck_index_test = np.where((y_test == 1) | (y_test == 9))[0]"
   ]
  },
  {
   "cell_type": "code",
   "execution_count": 12,
   "metadata": {},
   "outputs": [],
   "source": [
    "Xtest = X_test[car_truck_index_test]\n",
    "ytest = y_test[car_truck_index_test]"
   ]
  },
  {
   "cell_type": "code",
   "execution_count": 13,
   "metadata": {
    "scrolled": true
   },
   "outputs": [
    {
     "data": {
      "text/plain": [
       "<matplotlib.image.AxesImage at 0x7f984cb1f100>"
      ]
     },
     "execution_count": 13,
     "metadata": {},
     "output_type": "execute_result"
    },
    {
     "data": {
      "image/png": "[encoded data removed]",
      "text/plain": [
       "<Figure size 432x288 with 1 Axes>"
      ]
     },
     "metadata": {
      "needs_background": "light"
     },
     "output_type": "display_data"
    }
   ],
   "source": [
    "plt.imshow(Xtest[8])"
   ]
  },
  {
   "cell_type": "code",
   "execution_count": 14,
   "metadata": {},
   "outputs": [],
   "source": [
    "Xtrain = Xtrain.reshape(10000,-1)\n",
    "Xtest = Xtest.reshape(2000,-1)"
   ]
  },
  {
   "cell_type": "code",
   "execution_count": 15,
   "metadata": {},
   "outputs": [],
   "source": [
    "ytrain = ytrain.reshape(10000,)\n",
    "ytest = ytest.reshape(2000,)"
   ]
  },
  {
   "cell_type": "code",
   "execution_count": 16,
   "metadata": {},
   "outputs": [],
   "source": [
    "scaler = StandardScaler()\n",
    "Xtrain = scaler.fit_transform(Xtrain)\n",
    "Xtest = scaler.transform(Xtest)"
   ]
  },
  {
   "cell_type": "code",
   "execution_count": 27,
   "metadata": {},
   "outputs": [],
   "source": [
    "SVCmod = SVC(kernel = 'rbf')"
   ]
  },
  {
   "cell_type": "code",
   "execution_count": 28,
   "metadata": {},
   "outputs": [
    {
     "data": {
      "text/plain": [
       "SVC()"
      ]
     },
     "execution_count": 28,
     "metadata": {},
     "output_type": "execute_result"
    }
   ],
   "source": [
    "SVCmod.fit(Xtrain, ytrain)"
   ]
  },
  {
   "cell_type": "code",
   "execution_count": 29,
   "metadata": {},
   "outputs": [],
   "source": [
    "preds = SVCmod.predict(Xtest)"
   ]
  },
  {
   "cell_type": "code",
   "execution_count": 30,
   "metadata": {},
   "outputs": [
    {
     "name": "stdout",
     "output_type": "stream",
     "text": [
      "[[790 210]\n",
      " [218 782]]\n",
      "Train Recall:  0.79\n",
      "Train Precision:  0.7837301587301587\n"
     ]
    }
   ],
   "source": [
    "conf_mat = confusion_matrix(ytest, preds)\n",
    "tn, fp, fn, tp = conf_mat.ravel()\n",
    "print(conf_mat)\n",
    "print('Train Recall: ', recall_score(ytest, preds))\n",
    "print('Train Precision: ', precision_score(ytest, preds))"
   ]
  },
  {
   "cell_type": "code",
   "execution_count": 31,
   "metadata": {},
   "outputs": [
    {
     "data": {
      "text/plain": [
       "RandomForestClassifier()"
      ]
     },
     "execution_count": 31,
     "metadata": {},
     "output_type": "execute_result"
    }
   ],
   "source": [
    "forest = RandomForestClassifier()\n",
    "forest.fit(Xtrain, ytrain)"
   ]
  },
  {
   "cell_type": "code",
   "execution_count": 32,
   "metadata": {},
   "outputs": [],
   "source": [
    "preds = forest.predict(Xtest)"
   ]
  },
  {
   "cell_type": "code",
   "execution_count": 33,
   "metadata": {},
   "outputs": [
    {
     "name": "stdout",
     "output_type": "stream",
     "text": [
      "[[761 239]\n",
      " [259 741]]\n",
      "Recall:  0.761\n",
      "Precision:  0.746078431372549\n"
     ]
    }
   ],
   "source": [
    "conf_mat = confusion_matrix(ytest, preds)\n",
    "tn, fp, fn, tp = conf_mat.ravel()\n",
    "print(conf_mat)\n",
    "print('Recall: ', recall_score(ytest, preds))\n",
    "print('Precision: ', precision_score(ytest, preds))"
   ]
  },
  {
   "cell_type": "code",
   "execution_count": 34,
   "metadata": {},
   "outputs": [
    {
     "data": {
      "text/plain": [
       "GradientBoostingClassifier()"
      ]
     },
     "execution_count": 34,
     "metadata": {},
     "output_type": "execute_result"
    }
   ],
   "source": [
    "boost = GradientBoostingClassifier()\n",
    "boost.fit(Xtrain, ytrain)"
   ]
  },
  {
   "cell_type": "code",
   "execution_count": 38,
   "metadata": {},
   "outputs": [],
   "source": [
    "preds = boost.predict(Xtest)"
   ]
  },
  {
   "cell_type": "code",
   "execution_count": 36,
   "metadata": {},
   "outputs": [
    {
     "name": "stdout",
     "output_type": "stream",
     "text": [
      "[[740 260]\n",
      " [240 760]]\n",
      "Recall:  0.74\n",
      "Precision:  0.7551020408163265\n"
     ]
    }
   ],
   "source": [
    "conf_mat = confusion_matrix(ytest, preds)\n",
    "tn, fp, fn, tp = conf_mat.ravel()\n",
    "print(conf_mat)\n",
    "print('Recall: ', recall_score(ytest, preds))\n",
    "print('Precision: ', precision_score(ytest, preds))"
   ]
  },
  {
   "cell_type": "code",
   "execution_count": 10,
   "metadata": {},
   "outputs": [
    {
     "data": {
      "text/plain": [
       "GridSearchCV(estimator=SVC(),\n",
       "             param_grid={'C': [0.5, 1.5], 'kernel': ['rbf', 'sigmoid']},\n",
       "             scoring='roc_auc')"
      ]
     },
     "execution_count": 10,
     "metadata": {},
     "output_type": "execute_result"
    }
   ],
   "source": [
    "Clist = [.5, 1.5]\n",
    "kernellist = ['rbf', 'sigmoid']\n",
    "SVCCV = SVC()\n",
    "gridSVC = GridSearchCV(SVCCV, param_grid = {'C':Clist, 'kernel':kernellist}, scoring = 'roc_auc')\n",
    "gridSVC.fit(Xtrain, ytrain)"
   ]
  },
  {
   "cell_type": "code",
   "execution_count": 11,
   "metadata": {},
   "outputs": [
    {
     "data": {
      "text/plain": [
       "{'C': 1.5, 'kernel': 'rbf'}"
      ]
     },
     "execution_count": 11,
     "metadata": {},
     "output_type": "execute_result"
    }
   ],
   "source": [
    "gridSVC.best_params_"
   ]
  },
  {
   "cell_type": "code",
   "execution_count": 13,
   "metadata": {},
   "outputs": [
    {
     "data": {
      "text/html": [
       "<div>\n",
       "<style scoped>\n",
       "    .dataframe tbody tr th:only-of-type {\n",
       "        vertical-align: middle;\n",
       "    }\n",
       "\n",
       "    .dataframe tbody tr th {\n",
       "        vertical-align: top;\n",
       "    }\n",
       "\n",
       "    .dataframe thead th {\n",
       "        text-align: right;\n",
       "    }\n",
       "</style>\n",
       "<table border=\"1\" class=\"dataframe\">\n",
       "  <thead>\n",
       "    <tr style=\"text-align: right;\">\n",
       "      <th></th>\n",
       "      <th>mean_fit_time</th>\n",
       "      <th>std_fit_time</th>\n",
       "      <th>mean_score_time</th>\n",
       "      <th>std_score_time</th>\n",
       "      <th>param_C</th>\n",
       "      <th>param_kernel</th>\n",
       "      <th>params</th>\n",
       "      <th>split0_test_score</th>\n",
       "      <th>split1_test_score</th>\n",
       "      <th>split2_test_score</th>\n",
       "      <th>split3_test_score</th>\n",
       "      <th>split4_test_score</th>\n",
       "      <th>mean_test_score</th>\n",
       "      <th>std_test_score</th>\n",
       "      <th>rank_test_score</th>\n",
       "    </tr>\n",
       "  </thead>\n",
       "  <tbody>\n",
       "    <tr>\n",
       "      <th>0</th>\n",
       "      <td>176.679098</td>\n",
       "      <td>0.857894</td>\n",
       "      <td>42.987525</td>\n",
       "      <td>0.210277</td>\n",
       "      <td>0.5</td>\n",
       "      <td>rbf</td>\n",
       "      <td>{'C': 0.5, 'kernel': 'rbf'}</td>\n",
       "      <td>0.858472</td>\n",
       "      <td>0.830875</td>\n",
       "      <td>0.843268</td>\n",
       "      <td>0.852232</td>\n",
       "      <td>0.848668</td>\n",
       "      <td>0.846703</td>\n",
       "      <td>0.009330</td>\n",
       "      <td>2</td>\n",
       "    </tr>\n",
       "    <tr>\n",
       "      <th>1</th>\n",
       "      <td>137.867666</td>\n",
       "      <td>1.061698</td>\n",
       "      <td>34.338784</td>\n",
       "      <td>0.219727</td>\n",
       "      <td>0.5</td>\n",
       "      <td>sigmoid</td>\n",
       "      <td>{'C': 0.5, 'kernel': 'sigmoid'}</td>\n",
       "      <td>0.413543</td>\n",
       "      <td>0.413461</td>\n",
       "      <td>0.448463</td>\n",
       "      <td>0.434146</td>\n",
       "      <td>0.436056</td>\n",
       "      <td>0.429134</td>\n",
       "      <td>0.013677</td>\n",
       "      <td>3</td>\n",
       "    </tr>\n",
       "    <tr>\n",
       "      <th>2</th>\n",
       "      <td>169.393266</td>\n",
       "      <td>0.868206</td>\n",
       "      <td>41.693803</td>\n",
       "      <td>0.187254</td>\n",
       "      <td>1.5</td>\n",
       "      <td>rbf</td>\n",
       "      <td>{'C': 1.5, 'kernel': 'rbf'}</td>\n",
       "      <td>0.882111</td>\n",
       "      <td>0.855600</td>\n",
       "      <td>0.873336</td>\n",
       "      <td>0.876420</td>\n",
       "      <td>0.874553</td>\n",
       "      <td>0.872404</td>\n",
       "      <td>0.008924</td>\n",
       "      <td>1</td>\n",
       "    </tr>\n",
       "    <tr>\n",
       "      <th>3</th>\n",
       "      <td>132.485204</td>\n",
       "      <td>3.042821</td>\n",
       "      <td>33.362680</td>\n",
       "      <td>0.230459</td>\n",
       "      <td>1.5</td>\n",
       "      <td>sigmoid</td>\n",
       "      <td>{'C': 1.5, 'kernel': 'sigmoid'}</td>\n",
       "      <td>0.413276</td>\n",
       "      <td>0.413182</td>\n",
       "      <td>0.448132</td>\n",
       "      <td>0.433904</td>\n",
       "      <td>0.435729</td>\n",
       "      <td>0.428845</td>\n",
       "      <td>0.013658</td>\n",
       "      <td>4</td>\n",
       "    </tr>\n",
       "  </tbody>\n",
       "</table>\n",
       "</div>"
      ],
      "text/plain": [
       "   mean_fit_time  std_fit_time  mean_score_time  std_score_time param_C  \\\n",
       "0     176.679098      0.857894        42.987525        0.210277     0.5   \n",
       "1     137.867666      1.061698        34.338784        0.219727     0.5   \n",
       "2     169.393266      0.868206        41.693803        0.187254     1.5   \n",
       "3     132.485204      3.042821        33.362680        0.230459     1.5   \n",
       "\n",
       "  param_kernel                           params  split0_test_score  \\\n",
       "0          rbf      {'C': 0.5, 'kernel': 'rbf'}           0.858472   \n",
       "1      sigmoid  {'C': 0.5, 'kernel': 'sigmoid'}           0.413543   \n",
       "2          rbf      {'C': 1.5, 'kernel': 'rbf'}           0.882111   \n",
       "3      sigmoid  {'C': 1.5, 'kernel': 'sigmoid'}           0.413276   \n",
       "\n",
       "   split1_test_score  split2_test_score  split3_test_score  split4_test_score  \\\n",
       "0           0.830875           0.843268           0.852232           0.848668   \n",
       "1           0.413461           0.448463           0.434146           0.436056   \n",
       "2           0.855600           0.873336           0.876420           0.874553   \n",
       "3           0.413182           0.448132           0.433904           0.435729   \n",
       "\n",
       "   mean_test_score  std_test_score  rank_test_score  \n",
       "0         0.846703        0.009330                2  \n",
       "1         0.429134        0.013677                3  \n",
       "2         0.872404        0.008924                1  \n",
       "3         0.428845        0.013658                4  "
      ]
     },
     "execution_count": 13,
     "metadata": {},
     "output_type": "execute_result"
    }
   ],
   "source": [
    "pd.DataFrame(gridSVC.cv_results_)"
   ]
  },
  {
   "cell_type": "code",
   "execution_count": 39,
   "metadata": {},
   "outputs": [],
   "source": [
    "preds = gridSVC.predict(Xtest)"
   ]
  },
  {
   "cell_type": "code",
   "execution_count": 40,
   "metadata": {},
   "outputs": [
    {
     "name": "stdout",
     "output_type": "stream",
     "text": [
      "[[797 203]\n",
      " [216 784]]\n",
      "Recall:  0.797\n",
      "Precision:  0.786771964461994\n"
     ]
    }
   ],
   "source": [
    "conf_mat = confusion_matrix(ytest, preds)\n",
    "tn, fp, fn, tp = conf_mat.ravel()\n",
    "print(conf_mat)\n",
    "print('Recall: ', recall_score(ytest, preds))\n",
    "print('Precision: ', precision_score(ytest, preds))"
   ]
  },
  {
   "cell_type": "code",
   "execution_count": 2,
   "metadata": {},
   "outputs": [
    {
     "data": {
      "text/plain": [
       "0.7905"
      ]
     },
     "execution_count": 2,
     "metadata": {},
     "output_type": "execute_result"
    }
   ],
   "source": []
  }
 ],
 "metadata": {
  "kernelspec": {
   "display_name": "Python 3",
   "language": "python",
   "name": "python3"
  },
  "language_info": {
   "codemirror_mode": {
    "name": "ipython",
    "version": 3
   },
   "file_extension": ".py",
   "mimetype": "text/x-python",
   "name": "python",
   "nbconvert_exporter": "python",
   "pygments_lexer": "ipython3",
   "version": "3.8.3"
  }
 },
 "nbformat": 4,
 "nbformat_minor": 4
}
