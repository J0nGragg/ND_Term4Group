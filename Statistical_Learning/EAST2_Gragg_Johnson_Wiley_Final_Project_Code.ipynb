{
 "cells": [
  {
   "cell_type": "markdown",
   "metadata": {},
   "source": [
    "# <span style=\"color:orange\" padding-bottom=\"0\">FINAL PROJECT | CODE<br>East 2: Jonathan Gragg, William Johnson, Douglas Wiley</span>\n"
   ]
  },
  {
   "cell_type": "markdown",
   "metadata": {},
   "source": [
    "## Libraries"
   ]
  },
  {
   "cell_type": "code",
   "execution_count": 1,
   "metadata": {},
   "outputs": [],
   "source": [
    "# utilities\n",
    "import janitor \n",
    "import math \n",
    "import numpy as np\n",
    "import pandas as pd\n",
    "\n",
    "# data\n",
    "from tensorflow.keras.datasets import cifar10\n",
    "\n",
    "# preprocessing\n",
    "from sklearn.model_selection import train_test_split\n",
    "from sklearn.preprocessing import StandardScaler\n",
    "from tensorflow.keras.utils import to_categorical\n",
    "\n",
    "# classifiers\n",
    "from sklearn.ensemble import GradientBoostingClassifier\n",
    "from sklearn.ensemble import RandomForestClassifier\n",
    "from sklearn.svm import SVC\n",
    "from sklearn.model_selection import GridSearchCV\n",
    "import tensorflow as tf\n",
    "from tensorflow import keras\n",
    "from tensorflow.keras import Sequential\n",
    "from tensorflow.keras.layers import Dense\n",
    "from tensorflow.keras.layers import Conv2D\n",
    "from tensorflow.keras.layers import Flatten\n",
    "from tensorflow.keras.layers import MaxPooling2D\n",
    "from tensorflow.keras.layers import Dropout\n",
    "from tensorflow.keras.callbacks import EarlyStopping\n",
    "\n",
    "# metrics\n",
    "from sklearn.metrics import classification_report\n",
    "from sklearn.metrics import confusion_matrix\n",
    "#from sklearn.metrics import accuracy_score, recall_score, precision_score, roc_curve, roc_auc_score, precision_recall_curve\n",
    "\n",
    "# plotting\n",
    "import matplotlib as mpl\n",
    "import matplotlib.pyplot as plt\n",
    "import seaborn as sns"
   ]
  },
  {
   "cell_type": "markdown",
   "metadata": {},
   "source": [
    "## Initializations"
   ]
  },
  {
   "cell_type": "code",
   "execution_count": 2,
   "metadata": {},
   "outputs": [],
   "source": [
    "# plotting\n",
    "sns.set_palette('Oranges')\n",
    "sns.color_palette(\"YlOrBr\")\n",
    "\n",
    "# printing\n",
    "np.set_printoptions(precision=2)\n",
    "pd.set_option('precision', 2)\n",
    "\n",
    "# runtime\n",
    "import warnings\n",
    "warnings.filterwarnings('ignore')"
   ]
  },
  {
   "cell_type": "code",
   "execution_count": 3,
   "metadata": {},
   "outputs": [],
   "source": [
    " # my functions\n",
    "def _get_cifar(reduce=True):\n",
    "    \n",
    "    # import image data\n",
    "    (X_train_all, y_train_all), (X_test_all, y_test_all) = cifar10.load_data()\n",
    "    \n",
    "    # reduce data size for document rendering purposes\n",
    "    if(reduce):\n",
    "        X_train_all, y_train_all = _reduce_cifar(X_train_all, y_train_all)\n",
    "        X_test_all, y_test_all = _reduce_cifar(X_test_all, y_test_all)\n",
    "    \n",
    "    # we only need car and truck images\n",
    "    train_index = np.where((y_train_all == 1) | (y_train_all == 9))[0] # train\n",
    "    X_train = X_train_all[train_index]\n",
    "    y_train = y_train_all[train_index]\n",
    "    test_index = np.where((y_test_all == 1) | (y_test_all == 9))[0] # test\n",
    "    X_test = X_test_all[test_index]\n",
    "    y_test = y_test_all[test_index]\n",
    "    \n",
    "    # cnn uses validation datasets\n",
    "    X_train, X_valid, y_train, y_valid = train_test_split(X_train, y_train, test_size=.5, stratify=y_train, random_state=1)\n",
    "\n",
    "    # though a multiclass problem, convert labels so we can get recall and precision\n",
    "    y_train[y_train == 1] = 0\n",
    "    y_train[y_train == 9] = 1\n",
    "    y_valid[y_valid == 1] = 0\n",
    "    y_valid[y_valid == 9] = 1\n",
    "    y_test[y_test == 1] = 0\n",
    "    y_test[y_test == 9] = 1\n",
    "    \n",
    "    print('X_train shape: {}'.format(X_train.shape))\n",
    "    print('y_train shape: {}'.format(y_train.shape))\n",
    "    print('X_valid shape: {}'.format(X_valid.shape))\n",
    "    print('y_valid shape: {}'.format(y_valid.shape))\n",
    "    print('X_test shape: {}'.format(X_test.shape))\n",
    "    print('y_test shape: {}'.format(y_test.shape))\n",
    "    \n",
    "    return X_train, y_train, X_valid, y_valid, X_test, y_test\n",
    "\n",
    "def _reduce_cifar(X, y, fraction=0.1):\n",
    "    \n",
    "    # recombine image with its label\n",
    "    df = pd.DataFrame(list(zip(X, y)), columns =['Image', 'label']) \n",
    "    \n",
    "    # get a sample of the data\n",
    "    val = df.sample(frac=fraction)\n",
    "    \n",
    "    # seperate them back out\n",
    "    X_ = np.array([ i for i in list(val['Image'])])\n",
    "    y_ = np.array([ [i[0]] for i in list(val['label'])])\n",
    "    return (X_, y_)\n",
    "\n",
    "def _classification_metrics(y, y_hat):\n",
    "    print ('Confusion Matrix') \n",
    "    print(confusion_matrix(y, y_hat, labels=[1,0])) \n",
    "    print('')\n",
    "    print ('Classification Report')\n",
    "    print(classification_report(y, y_hat))\n",
    "    \n",
    "def _prob_to_pred(p):\n",
    "    return list(map(lambda p: int(p[0] <= p[1]), p))\n"
   ]
  },
  {
   "cell_type": "markdown",
   "metadata": {},
   "source": [
    "## EDA"
   ]
  },
  {
   "cell_type": "code",
   "execution_count": 4,
   "metadata": {},
   "outputs": [
    {
     "name": "stdout",
     "output_type": "stream",
     "text": [
      "X_train shape: (493, 32, 32, 3)\n",
      "y_train shape: (493, 1)\n",
      "X_valid shape: (493, 32, 32, 3)\n",
      "y_valid shape: (493, 1)\n",
      "X_test shape: (203, 32, 32, 3)\n",
      "y_test shape: (203, 1)\n"
     ]
    },
    {
     "data": {
      "image/png": "[encoded data removed]",
      "text/plain": [
       "<Figure size 432x288 with 1 Axes>"
      ]
     },
     "metadata": {
      "needs_background": "light"
     },
     "output_type": "display_data"
    }
   ],
   "source": [
    "# get image data, don't need validation at this point\n",
    "X_train, y_train, _, _, X_test, y_test = _get_cifar()\n",
    "\n",
    "# show an example image\n",
    "supress = plt.imshow(X_train[1])"
   ]
  },
  {
   "cell_type": "code",
   "execution_count": 5,
   "metadata": {},
   "outputs": [],
   "source": [
    "X_train = X_train.reshape(X_train.shape[0], -1)\n",
    "y_train = y_train.reshape(y_train.shape[0],)\n",
    "X_test = X_test.reshape(X_test.shape[0], -1)\n",
    "y_test = y_test.reshape(y_test.shape[0],)\n",
    "\n",
    "# standardize the training and test data\n",
    "scaler = StandardScaler()\n",
    "X_train = scaler.fit_transform(X_train)\n",
    "X_test = scaler.transform(X_test)"
   ]
  },
  {
   "cell_type": "markdown",
   "metadata": {},
   "source": [
    "## Non-Neural Net Classifiers"
   ]
  },
  {
   "cell_type": "code",
   "execution_count": 6,
   "metadata": {},
   "outputs": [
    {
     "name": "stdout",
     "output_type": "stream",
     "text": [
      "Confusion Matrix\n",
      "[[65 28]\n",
      " [34 76]]\n",
      "\n",
      "Classification Report\n",
      "              precision    recall  f1-score   support\n",
      "\n",
      "           0       0.73      0.69      0.71       110\n",
      "           1       0.66      0.70      0.68        93\n",
      "\n",
      "    accuracy                           0.69       203\n",
      "   macro avg       0.69      0.69      0.69       203\n",
      "weighted avg       0.70      0.69      0.70       203\n",
      "\n"
     ]
    }
   ],
   "source": [
    "# support vector machines\n",
    "model_svc = SVC(kernel = 'rbf')\n",
    "model_svc.fit(X_train, y_train)\n",
    "preds_svc = model_svc.predict(X_test)\n",
    "_classification_metrics(y_test, preds_svc)"
   ]
  },
  {
   "cell_type": "code",
   "execution_count": 7,
   "metadata": {},
   "outputs": [
    {
     "name": "stdout",
     "output_type": "stream",
     "text": [
      "Confusion Matrix\n",
      "[[61 32]\n",
      " [42 68]]\n",
      "\n",
      "Classification Report\n",
      "              precision    recall  f1-score   support\n",
      "\n",
      "           0       0.68      0.62      0.65       110\n",
      "           1       0.59      0.66      0.62        93\n",
      "\n",
      "    accuracy                           0.64       203\n",
      "   macro avg       0.64      0.64      0.64       203\n",
      "weighted avg       0.64      0.64      0.64       203\n",
      "\n"
     ]
    }
   ],
   "source": [
    "# random forest\n",
    "model_forest = RandomForestClassifier()\n",
    "model_forest.fit(X_train, y_train)\n",
    "preds_forest = model_forest.predict(X_test)\n",
    "_classification_metrics(y_test, preds_forest)"
   ]
  },
  {
   "cell_type": "code",
   "execution_count": 8,
   "metadata": {},
   "outputs": [
    {
     "name": "stdout",
     "output_type": "stream",
     "text": [
      "Confusion Matrix\n",
      "[[64 29]\n",
      " [40 70]]\n",
      "\n",
      "Classification Report\n",
      "              precision    recall  f1-score   support\n",
      "\n",
      "           0       0.71      0.64      0.67       110\n",
      "           1       0.62      0.69      0.65        93\n",
      "\n",
      "    accuracy                           0.66       203\n",
      "   macro avg       0.66      0.66      0.66       203\n",
      "weighted avg       0.67      0.66      0.66       203\n",
      "\n"
     ]
    }
   ],
   "source": [
    "# Boosted\n",
    "model_boost = GradientBoostingClassifier()\n",
    "model_boost.fit(X_train, y_train)\n",
    "preds_boost = model_boost.predict(X_test)\n",
    "_classification_metrics(y_test, preds_boost)"
   ]
  },
  {
   "cell_type": "code",
   "execution_count": 9,
   "metadata": {},
   "outputs": [
    {
     "name": "stdout",
     "output_type": "stream",
     "text": [
      "{'C': 1.5, 'kernel': 'rbf'}\n",
      "Confusion Matrix\n",
      "[[66 27]\n",
      " [37 73]]\n",
      "\n",
      "Classification Report\n",
      "              precision    recall  f1-score   support\n",
      "\n",
      "           0       0.73      0.66      0.70       110\n",
      "           1       0.64      0.71      0.67        93\n",
      "\n",
      "    accuracy                           0.68       203\n",
      "   macro avg       0.69      0.69      0.68       203\n",
      "weighted avg       0.69      0.68      0.69       203\n",
      "\n"
     ]
    }
   ],
   "source": [
    "# attempt to improve best overal classifier\n",
    "def svc_gridsearch(c_list, kernel_list):\n",
    "    model_svc = SVC()\n",
    "    grid_svc = GridSearchCV(\n",
    "        model_svc, \n",
    "        param_grid = {'C':c_list, 'kernel':kernel_list}, \n",
    "        scoring = 'roc_auc')\n",
    "    return grid_svc.fit(X_train, y_train)\n",
    "  \n",
    "# search parameters\n",
    "C_LIST = [.5, 1.5]\n",
    "KERNEL_LIST = ['rbf', 'sigmoid']\n",
    "\n",
    "# commented out so the pdf generates\n",
    "grid_svc = svc_gridsearch(C_LIST, KERNEL_LIST)\n",
    "\n",
    "# returns a best model of c=1.5 and kernel=rbf\n",
    "print(grid_svc.best_params_)\n",
    "\n",
    "preds_svc_best = grid_svc.predict(X_test)\n",
    "_classification_metrics(y_test, preds_svc_best)"
   ]
  },
  {
   "cell_type": "markdown",
   "metadata": {},
   "source": [
    "## Neural Net Classifiers"
   ]
  },
  {
   "cell_type": "code",
   "execution_count": 10,
   "metadata": {},
   "outputs": [
    {
     "name": "stdout",
     "output_type": "stream",
     "text": [
      "X_train shape: (536, 32, 32, 3)\n",
      "y_train shape: (536, 1)\n",
      "X_valid shape: (537, 32, 32, 3)\n",
      "y_valid shape: (537, 1)\n",
      "X_test shape: (226, 32, 32, 3)\n",
      "y_test shape: (226, 1)\n"
     ]
    },
    {
     "data": {
      "image/png": "[encoded data removed]",
      "text/plain": [
       "<Figure size 432x288 with 1 Axes>"
      ]
     },
     "metadata": {
      "needs_background": "light"
     },
     "output_type": "display_data"
    }
   ],
   "source": [
    "# re-import image data\n",
    "X_train, y_train, X_valid, y_valid, X_test, y_test = _get_cifar()\n",
    "\n",
    "# show an example image\n",
    "supress = plt.imshow(X_train[1])"
   ]
  },
  {
   "cell_type": "code",
   "execution_count": 11,
   "metadata": {},
   "outputs": [
    {
     "name": "stdout",
     "output_type": "stream",
     "text": [
      "8/8 [==============================] - 0s 2ms/step - loss: 2.9975 - accuracy: 0.7345\n"
     ]
    },
    {
     "data": {
      "text/plain": [
       "[2.997479200363159, 0.7345132827758789]"
      ]
     },
     "execution_count": 11,
     "metadata": {},
     "output_type": "execute_result"
    }
   ],
   "source": [
    "# cnn model 1\n",
    "model_cnn_1 = Sequential([\n",
    "    Conv2D(16, kernel_size=(3,3), activation='relu', padding='same', input_shape=(32,32,3)), \n",
    "    MaxPooling2D(pool_size=(4, 4), strides=4),\n",
    "    Flatten(),\n",
    "    Dense(2, activation='softmax')\n",
    "]) \n",
    "\n",
    "model_cnn_1.compile(\n",
    "    optimizer='adam',\n",
    "    loss=tf.keras.losses.SparseCategoricalCrossentropy(from_logits=True),\n",
    "    metrics=['accuracy'])\n",
    "\n",
    "model_cnn_1.fit(\n",
    "    X_train, \n",
    "    y_train, \n",
    "    epochs=10, \n",
    "    batch_size=20,\n",
    "    validation_data=(X_valid, y_valid),\n",
    "    verbose=False)\n",
    "\n",
    "model_cnn_1.evaluate(X_test, y_test)"
   ]
  },
  {
   "cell_type": "code",
   "execution_count": 12,
   "metadata": {
    "scrolled": false
   },
   "outputs": [
    {
     "name": "stdout",
     "output_type": "stream",
     "text": [
      "Confusion Matrix\n",
      "[[83 24]\n",
      " [36 83]]\n",
      "\n",
      "Classification Report\n",
      "              precision    recall  f1-score   support\n",
      "\n",
      "           0       0.78      0.70      0.73       119\n",
      "           1       0.70      0.78      0.73       107\n",
      "\n",
      "    accuracy                           0.73       226\n",
      "   macro avg       0.74      0.74      0.73       226\n",
      "weighted avg       0.74      0.73      0.73       226\n",
      "\n"
     ]
    }
   ],
   "source": [
    "# look at model 1 predictive performance\n",
    "preds_cnn_1 = model_cnn_1.predict(X_test, verbose=0)\n",
    "_classification_metrics(y_test, _prob_to_pred(preds_cnn_1))"
   ]
  },
  {
   "cell_type": "code",
   "execution_count": 13,
   "metadata": {},
   "outputs": [
    {
     "name": "stdout",
     "output_type": "stream",
     "text": [
      "8/8 [==============================] - 0s 4ms/step - loss: 2.0348 - accuracy: 0.7434\n"
     ]
    },
    {
     "data": {
      "text/plain": [
       "[2.0348005294799805, 0.7433628439903259]"
      ]
     },
     "execution_count": 13,
     "metadata": {},
     "output_type": "execute_result"
    }
   ],
   "source": [
    "# attempt to improve performance with model 2\n",
    "model_cnn_2 = Sequential([\n",
    "    Conv2D(64, kernel_size=(3,3), activation='relu', strides=(1,1), kernel_regularizer=keras.regularizers.l1_l2(.001), padding='same', input_shape=(32,32,3)),\n",
    "    MaxPooling2D(pool_size=(6, 6), strides=2),\n",
    "    Flatten(),\n",
    "    Dense(40, activation='softmax')\n",
    "])\n",
    "\n",
    "model_cnn_2.compile(\n",
    "    optimizer='adam',\n",
    "    loss=tf.keras.losses.SparseCategoricalCrossentropy(from_logits=True),\n",
    "    metrics=['accuracy'])\n",
    "\n",
    "model_cnn_2.fit(\n",
    "    X_train, \n",
    "    y_train, \n",
    "    epochs=10, \n",
    "    batch_size=20,\n",
    "    validation_data=(X_valid, y_valid),\n",
    "    verbose=False)\n",
    "\n",
    "model_cnn_2.evaluate(X_test, y_test)"
   ]
  },
  {
   "cell_type": "code",
   "execution_count": 14,
   "metadata": {},
   "outputs": [
    {
     "name": "stdout",
     "output_type": "stream",
     "text": [
      "Confusion Matrix\n",
      "[[83 24]\n",
      " [34 85]]\n",
      "\n",
      "Classification Report\n",
      "              precision    recall  f1-score   support\n",
      "\n",
      "           0       0.78      0.71      0.75       119\n",
      "           1       0.71      0.78      0.74       107\n",
      "\n",
      "    accuracy                           0.74       226\n",
      "   macro avg       0.74      0.74      0.74       226\n",
      "weighted avg       0.75      0.74      0.74       226\n",
      "\n"
     ]
    }
   ],
   "source": [
    "# look at model 2 predictive performance\n",
    "preds_cnn_2 = model_cnn_2.predict(X_test, verbose=0)\n",
    "_classification_metrics(y_test, _prob_to_pred(preds_cnn_2))"
   ]
  },
  {
   "cell_type": "code",
   "execution_count": 15,
   "metadata": {},
   "outputs": [
    {
     "name": "stdout",
     "output_type": "stream",
     "text": [
      "8/8 [==============================] - 0s 5ms/step - loss: 0.7839 - accuracy: 0.7655\n",
      "8/8 [==============================] - 0s 5ms/step - loss: 0.7539 - accuracy: 0.7788\n",
      "8/8 [==============================] - 0s 5ms/step - loss: 0.9207 - accuracy: 0.7655\n"
     ]
    }
   ],
   "source": [
    "# further optimization with model 3\n",
    "model_cnn_3 = Sequential([\n",
    "    Conv2D(64, kernel_size=(3,3), activation='relu', kernel_regularizer=keras.regularizers.l1_l2(.001), padding='same', input_shape=(32,32,3)),\n",
    "    MaxPooling2D((2, 2)),\n",
    "    Conv2D(64, (3, 3), activation='relu'),\n",
    "    MaxPooling2D((2, 2)),\n",
    "    Conv2D(64, (3, 3), activation='relu'),\n",
    "    Flatten(),\n",
    "    Dense(64, activation='relu'),\n",
    "    Dropout(rate=.5),\n",
    "    Dense(2)\n",
    "])\n",
    "\n",
    "# define callback\n",
    "early_stopping = EarlyStopping(monitor='val_loss', patience=10)\n",
    "\n",
    "model_cnn_3.compile(\n",
    "    optimizer='adam',\n",
    "    loss=tf.keras.losses.SparseCategoricalCrossentropy(from_logits=True),\n",
    "    metrics=['accuracy'])\n",
    "\n",
    "# use reduced list for document creation\n",
    "#batch_size = [50,55,60,65,70,75,80,85,90,95,100,105,110,115,120,125,130,135,140,145,150,155]\n",
    "batch_size = [50, 110, 155]\n",
    "accuracy = []\n",
    "for b_ in batch_size:\n",
    "    history = model_cnn_3.fit(\n",
    "        X_train, \n",
    "        y_train, \n",
    "        epochs=100, \n",
    "        batch_size=b_,\n",
    "        validation_data=(X_valid, y_valid),\n",
    "        callbacks=[early_stopping],\n",
    "        verbose=False)\n",
    "    accuracy.append(model_cnn_3.evaluate(X_test, y_test)[1])"
   ]
  },
  {
   "cell_type": "code",
   "execution_count": 16,
   "metadata": {},
   "outputs": [
    {
     "data": {
      "text/plain": [
       "[<matplotlib.lines.Line2D at 0x7fe75ba65610>]"
      ]
     },
     "execution_count": 16,
     "metadata": {},
     "output_type": "execute_result"
    },
    {
     "data": {
      "image/png": "[encoded data removed]",
      "text/plain": [
       "<Figure size 432x288 with 1 Axes>"
      ]
     },
     "metadata": {
      "needs_background": "light"
     },
     "output_type": "display_data"
    }
   ],
   "source": [
    "# plot batch size\n",
    "graph = pd.DataFrame({'batch_size':batch_size, 'accuracy':accuracy})\n",
    "plt.plot(graph['batch_size'], graph['accuracy'])"
   ]
  },
  {
   "cell_type": "code",
   "execution_count": 17,
   "metadata": {},
   "outputs": [
    {
     "data": {
      "text/plain": [
       "1    110\n",
       "Name: batch_size, dtype: int64"
      ]
     },
     "execution_count": 17,
     "metadata": {},
     "output_type": "execute_result"
    }
   ],
   "source": [
    "# optimum batch size found to be 110\n",
    "best_batch = graph['batch_size'].loc[graph['accuracy'] == max(graph['accuracy'])]\n",
    "best_batch"
   ]
  },
  {
   "cell_type": "code",
   "execution_count": 18,
   "metadata": {},
   "outputs": [
    {
     "name": "stdout",
     "output_type": "stream",
     "text": [
      "8/8 [==============================] - 0s 6ms/step - loss: 0.7453 - accuracy: 0.7522\n"
     ]
    },
    {
     "data": {
      "text/plain": [
       "[0.7453163862228394, 0.752212405204773]"
      ]
     },
     "execution_count": 18,
     "metadata": {},
     "output_type": "execute_result"
    }
   ],
   "source": [
    "# run a final model\n",
    "model_cnn_final = Sequential([\n",
    "    Conv2D(64, kernel_size=(3,3), activation='relu', kernel_regularizer=keras.regularizers.l1_l2(.001), padding='same', input_shape=(32,32,3)),\n",
    "    MaxPooling2D((2, 2)),\n",
    "    Conv2D(64, (3, 3), activation='relu'),\n",
    "    MaxPooling2D((2, 2)),\n",
    "    Conv2D(64, (3, 3), activation='relu'),\n",
    "    Flatten(),\n",
    "    Dense(64, activation='relu'),\n",
    "    Dropout(rate=.5),\n",
    "    Dense(2)\n",
    "])\n",
    "\n",
    "model_cnn_final.compile(\n",
    "    optimizer='adam',\n",
    "    loss=tf.keras.losses.SparseCategoricalCrossentropy(from_logits=True),\n",
    "    metrics=['accuracy'])\n",
    "\n",
    "history = model_cnn_final.fit(\n",
    "    X_train, \n",
    "    y_train, \n",
    "    epochs=100, \n",
    "    batch_size=110,\n",
    "    validation_data=(X_valid, y_valid),\n",
    "    callbacks=[early_stopping],\n",
    "    verbose=False)\n",
    "\n",
    "model_cnn_final.evaluate(X_test, y_test)"
   ]
  },
  {
   "cell_type": "code",
   "execution_count": 19,
   "metadata": {},
   "outputs": [
    {
     "data": {
      "image/png": "[encoded data removed]",
      "text/plain": [
       "<Figure size 432x288 with 1 Axes>"
      ]
     },
     "metadata": {
      "needs_background": "light"
     },
     "output_type": "display_data"
    }
   ],
   "source": [
    "# plot accuracy over epochs\n",
    "plt.plot(history.history['accuracy'], label='Training accuracy')\n",
    "plt.plot(history.history['val_accuracy'], label='Validation accuracy')\n",
    "suppress = plt.legend()"
   ]
  },
  {
   "cell_type": "code",
   "execution_count": 20,
   "metadata": {},
   "outputs": [
    {
     "name": "stdout",
     "output_type": "stream",
     "text": [
      "Confusion Matrix\n",
      "[[84 23]\n",
      " [33 86]]\n",
      "\n",
      "Classification Report\n",
      "              precision    recall  f1-score   support\n",
      "\n",
      "           0       0.79      0.72      0.75       119\n",
      "           1       0.72      0.79      0.75       107\n",
      "\n",
      "    accuracy                           0.75       226\n",
      "   macro avg       0.75      0.75      0.75       226\n",
      "weighted avg       0.76      0.75      0.75       226\n",
      "\n"
     ]
    }
   ],
   "source": [
    "# look at final model predictive performance\n",
    "preds_cnn_final = model_cnn_final.predict(X_test, verbose=0)\n",
    "_classification_metrics(y_test, _prob_to_pred(preds_cnn_final))"
   ]
  },
  {
   "cell_type": "code",
   "execution_count": null,
   "metadata": {},
   "outputs": [],
   "source": []
  }
 ],
 "metadata": {
  "kernelspec": {
   "display_name": "Python 3",
   "language": "python",
   "name": "python3"
  },
  "language_info": {
   "codemirror_mode": {
    "name": "ipython",
    "version": 3
   },
   "file_extension": ".py",
   "mimetype": "text/x-python",
   "name": "python",
   "nbconvert_exporter": "python",
   "pygments_lexer": "ipython3",
   "version": "3.8.3"
  }
 },
 "nbformat": 4,
 "nbformat_minor": 4
}
