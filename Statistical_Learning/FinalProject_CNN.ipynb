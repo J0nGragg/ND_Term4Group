{
 "cells": [
  {
   "cell_type": "code",
   "execution_count": 175,
   "metadata": {},
   "outputs": [],
   "source": [
    "import pandas as pd\n",
    "import numpy as np\n",
    "import matplotlib as mpl\n",
    "import matplotlib.pyplot as plt\n",
    "from sklearn.metrics import accuracy_score\n",
    "from sklearn.model_selection import train_test_split\n",
    "\n",
    "# TensorFlow / Keras functions\n",
    "import tensorflow as tf\n",
    "from tensorflow import keras\n",
    "from tensorflow.keras import Sequential\n",
    "from tensorflow.keras.layers import Dense, Conv2D, Flatten, MaxPooling2D, Dropout\n",
    "from tensorflow.keras.datasets import mnist\n",
    "from tensorflow.keras.callbacks import EarlyStopping\n",
    "from tensorflow.keras.utils import to_categorical\n",
    "from sklearn.metrics import confusion_matrix, accuracy_score,\\\n",
    "    recall_score, precision_score, roc_curve, roc_auc_score\n",
    "from tensorflow.keras.datasets import cifar10\n",
    "(X_train, y_train), (X_test, y_test) = cifar10.load_data()"
   ]
  },
  {
   "cell_type": "code",
   "execution_count": 176,
   "metadata": {},
   "outputs": [
    {
     "data": {
      "text/plain": [
       "<matplotlib.image.AxesImage at 0x19c4ac1b8e0>"
      ]
     },
     "execution_count": 176,
     "metadata": {},
     "output_type": "execute_result"
    },
    {
     "data": {
      "image/png": "[encoded data removed]",
      "text/plain": [
       "<Figure size 432x288 with 1 Axes>"
      ]
     },
     "metadata": {
      "needs_background": "light"
     },
     "output_type": "display_data"
    }
   ],
   "source": [
    "plt.imshow(X_train[1], plt.cm.binary)"
   ]
  },
  {
   "cell_type": "code",
   "execution_count": 177,
   "metadata": {},
   "outputs": [
    {
     "data": {
      "text/plain": [
       "<matplotlib.image.AxesImage at 0x19c32f33910>"
      ]
     },
     "execution_count": 177,
     "metadata": {},
     "output_type": "execute_result"
    },
    {
     "data": {
      "image/png": "[encoded data removed]",
      "text/plain": [
       "<Figure size 432x288 with 1 Axes>"
      ]
     },
     "metadata": {
      "needs_background": "light"
     },
     "output_type": "display_data"
    }
   ],
   "source": [
    "plt.imshow(X_train[4], plt.cm.binary)"
   ]
  },
  {
   "cell_type": "code",
   "execution_count": 178,
   "metadata": {},
   "outputs": [
    {
     "name": "stdout",
     "output_type": "stream",
     "text": [
      "[9]\n",
      "[1]\n"
     ]
    }
   ],
   "source": [
    "print(y_train[1])\n",
    "print(y_train[4])"
   ]
  },
  {
   "cell_type": "code",
   "execution_count": 179,
   "metadata": {},
   "outputs": [
    {
     "name": "stdout",
     "output_type": "stream",
     "text": [
      "(5000, 32, 32, 3) (5000, 32, 32, 3) (2000, 32, 32, 3) (5000, 1) (5000, 1) (2000, 1)\n",
      "[[0]\n",
      " [0]\n",
      " [1]\n",
      " ...\n",
      " [1]\n",
      " [0]\n",
      " [0]]\n"
     ]
    }
   ],
   "source": [
    "car_truck_train = np.where((y_train == 1) | (y_train == 9))[0]\n",
    "car_truck_test = np.where((y_test == 1) | (y_test == 9))[0]\n",
    "\n",
    "Xtrain = X_train[car_truck_train]\n",
    "ytrain = y_train[car_truck_train]\n",
    "\n",
    "Xtest = X_test[car_truck_test]\n",
    "ytest = y_test[car_truck_test]\n",
    "\n",
    "ytrain[ytrain == 1] = False\n",
    "ytrain[ytrain == 9] = True\n",
    "\n",
    "ytest[ytest == 1] = False\n",
    "ytest[ytest == 9] = True\n",
    "\n",
    "Xtrain, Xvalid, ytrain, yvalid = train_test_split(Xtrain, ytrain, test_size=.5, stratify=ytrain, random_state=1)\n",
    "\n",
    "print(Xtrain.shape, Xvalid.shape, Xtest.shape, ytrain.shape, yvalid.shape, ytest.shape)\n",
    "print(ytest)"
   ]
  },
  {
   "cell_type": "code",
   "execution_count": 180,
   "metadata": {},
   "outputs": [],
   "source": [
    "model1 = Sequential()\n",
    "model1.add(Conv2D(16, kernel_size=(3,3), activation='relu',\n",
    "                 padding='same', input_shape=(32,32,3)))\n",
    "model1.add(MaxPooling2D(pool_size=(4, 4), strides=4))\n",
    "model1.add(Flatten())\n",
    "model1.add(Dense(2, activation='softmax'))"
   ]
  },
  {
   "cell_type": "code",
   "execution_count": 181,
   "metadata": {},
   "outputs": [
    {
     "name": "stdout",
     "output_type": "stream",
     "text": [
      "Epoch 1/10\n",
      "  1/250 [..............................] - ETA: 43s - loss: 25.2997 - accuracy: 0.5000"
     ]
    },
    {
     "name": "stderr",
     "output_type": "stream",
     "text": [
      "C:\\Users\\gragg\\AppData\\Local\\Packages\\PythonSoftwareFoundation.Python.3.9_qbz5n2kfra8p0\\LocalCache\\local-packages\\Python39\\site-packages\\keras\\backend.py:4906: UserWarning: \"`sparse_categorical_crossentropy` received `from_logits=True`, but the `output` argument was produced by a sigmoid or softmax activation and thus does not represent logits. Was this intended?\"\n",
      "  warnings.warn(\n"
     ]
    },
    {
     "name": "stdout",
     "output_type": "stream",
     "text": [
      "250/250 [==============================] - 1s 4ms/step - loss: 5.5727 - accuracy: 0.6222 - val_loss: 2.6185 - val_accuracy: 0.6796\n",
      "Epoch 2/10\n",
      "250/250 [==============================] - 1s 3ms/step - loss: 2.0458 - accuracy: 0.6924 - val_loss: 2.3647 - val_accuracy: 0.6566\n",
      "Epoch 3/10\n",
      "250/250 [==============================] - 1s 3ms/step - loss: 1.3938 - accuracy: 0.7198 - val_loss: 1.2629 - val_accuracy: 0.6964\n",
      "Epoch 4/10\n",
      "250/250 [==============================] - 1s 3ms/step - loss: 0.9024 - accuracy: 0.7210 - val_loss: 1.0373 - val_accuracy: 0.6708\n",
      "Epoch 5/10\n",
      "250/250 [==============================] - 1s 3ms/step - loss: 0.7059 - accuracy: 0.7278 - val_loss: 0.7796 - val_accuracy: 0.6976\n",
      "Epoch 6/10\n",
      "250/250 [==============================] - 1s 3ms/step - loss: 0.6058 - accuracy: 0.7420 - val_loss: 0.7906 - val_accuracy: 0.6766\n",
      "Epoch 7/10\n",
      "250/250 [==============================] - 1s 3ms/step - loss: 0.5758 - accuracy: 0.7388 - val_loss: 0.6939 - val_accuracy: 0.7118\n",
      "Epoch 8/10\n",
      "250/250 [==============================] - 1s 3ms/step - loss: 0.5281 - accuracy: 0.7684 - val_loss: 0.6937 - val_accuracy: 0.7032\n",
      "Epoch 9/10\n",
      "250/250 [==============================] - 1s 3ms/step - loss: 0.5172 - accuracy: 0.7750 - val_loss: 0.6618 - val_accuracy: 0.7342\n",
      "Epoch 10/10\n",
      "250/250 [==============================] - 1s 3ms/step - loss: 0.4829 - accuracy: 0.7850 - val_loss: 0.6945 - val_accuracy: 0.7290\n",
      "63/63 [==============================] - 0s 1ms/step - loss: 0.6322 - accuracy: 0.7375\n"
     ]
    },
    {
     "data": {
      "text/plain": [
       "[0.6322322487831116, 0.737500011920929]"
      ]
     },
     "execution_count": 181,
     "metadata": {},
     "output_type": "execute_result"
    }
   ],
   "source": [
    "model1.compile(optimizer='adam',\n",
    "               loss=tf.keras.losses.SparseCategoricalCrossentropy(from_logits=True),\n",
    "               metrics=['accuracy'])\n",
    "model1.fit(Xtrain, ytrain, epochs=10, batch_size=20,\n",
    "           validation_data=(Xvalid, yvalid))\n",
    "model1.evaluate(Xtest, ytest)"
   ]
  },
  {
   "cell_type": "code",
   "execution_count": 182,
   "metadata": {},
   "outputs": [
    {
     "name": "stdout",
     "output_type": "stream",
     "text": [
      "Recall: 0.775\n",
      "Precision: 0.7209302325581395\n"
     ]
    }
   ],
   "source": [
    "preds = model1.predict(Xtest, verbose=0)\n",
    "testpreds = []\n",
    "length = np.arange(0,2000)\n",
    "preds[0,0]\n",
    "for x in length:\n",
    "    if preds[x,0] > preds[x,1]:\n",
    "        testpreds.append(False)\n",
    "    else:\n",
    "        testpreds.append(True)\n",
    "\n",
    "print(\"Recall:\",recall_score(ytest,testpreds))\n",
    "print(\"Precision:\", precision_score(ytest,testpreds))"
   ]
  },
  {
   "cell_type": "code",
   "execution_count": 183,
   "metadata": {},
   "outputs": [
    {
     "name": "stdout",
     "output_type": "stream",
     "text": [
      "Epoch 1/10\n",
      "  1/250 [..............................] - ETA: 49s - loss: 134.0239 - accuracy: 0.0000e+00"
     ]
    },
    {
     "name": "stderr",
     "output_type": "stream",
     "text": [
      "C:\\Users\\gragg\\AppData\\Local\\Packages\\PythonSoftwareFoundation.Python.3.9_qbz5n2kfra8p0\\LocalCache\\local-packages\\Python39\\site-packages\\keras\\backend.py:4906: UserWarning: \"`sparse_categorical_crossentropy` received `from_logits=True`, but the `output` argument was produced by a sigmoid or softmax activation and thus does not represent logits. Was this intended?\"\n",
      "  warnings.warn(\n"
     ]
    },
    {
     "name": "stdout",
     "output_type": "stream",
     "text": [
      "250/250 [==============================] - 3s 11ms/step - loss: 6.4529 - accuracy: 0.6538 - val_loss: 0.9921 - val_accuracy: 0.7190\n",
      "Epoch 2/10\n",
      "250/250 [==============================] - 3s 11ms/step - loss: 0.8390 - accuracy: 0.7422 - val_loss: 0.8567 - val_accuracy: 0.6954\n",
      "Epoch 3/10\n",
      "250/250 [==============================] - 3s 11ms/step - loss: 0.6833 - accuracy: 0.7670 - val_loss: 0.7248 - val_accuracy: 0.7364\n",
      "Epoch 4/10\n",
      "250/250 [==============================] - 3s 11ms/step - loss: 0.5925 - accuracy: 0.7938 - val_loss: 0.7692 - val_accuracy: 0.7398\n",
      "Epoch 5/10\n",
      "250/250 [==============================] - 3s 11ms/step - loss: 0.5673 - accuracy: 0.8084 - val_loss: 0.7711 - val_accuracy: 0.7490\n",
      "Epoch 6/10\n",
      "250/250 [==============================] - 3s 11ms/step - loss: 0.5511 - accuracy: 0.8166 - val_loss: 0.7914 - val_accuracy: 0.7404\n",
      "Epoch 7/10\n",
      "250/250 [==============================] - 3s 11ms/step - loss: 0.5333 - accuracy: 0.8238 - val_loss: 0.9536 - val_accuracy: 0.7324\n",
      "Epoch 8/10\n",
      "250/250 [==============================] - 3s 11ms/step - loss: 0.6402 - accuracy: 0.8000 - val_loss: 0.8127 - val_accuracy: 0.7444\n",
      "Epoch 9/10\n",
      "250/250 [==============================] - 3s 11ms/step - loss: 0.5377 - accuracy: 0.8194 - val_loss: 0.7794 - val_accuracy: 0.7454\n",
      "Epoch 10/10\n",
      "250/250 [==============================] - 3s 11ms/step - loss: 0.5406 - accuracy: 0.8184 - val_loss: 0.7412 - val_accuracy: 0.7610\n",
      "63/63 [==============================] - 0s 4ms/step - loss: 0.7612 - accuracy: 0.7570\n"
     ]
    },
    {
     "data": {
      "text/plain": [
       "[0.7612107992172241, 0.7570000290870667]"
      ]
     },
     "execution_count": 183,
     "metadata": {},
     "output_type": "execute_result"
    }
   ],
   "source": [
    "model11 = Sequential()\n",
    "model11.add(Conv2D(64, kernel_size=(3,3), activation='relu', strides=(1,1), kernel_regularizer=keras.regularizers.l1_l2(.001), \n",
    "                  padding='same', input_shape=(32,32,3)))\n",
    "model11.add(MaxPooling2D(pool_size=(6, 6), strides=2))\n",
    "model11.add(Flatten())\n",
    "model11.add(Dense(40, activation='softmax'))\n",
    "\n",
    "model11.compile(optimizer='adam',\n",
    "               loss=tf.keras.losses.SparseCategoricalCrossentropy(from_logits=True),\n",
    "               metrics=['accuracy'])\n",
    "model11.fit(Xtrain, ytrain, epochs=10, batch_size=20,\n",
    "           validation_data=(Xvalid, yvalid))\n",
    "model11.evaluate(Xtest, ytest)"
   ]
  },
  {
   "cell_type": "code",
   "execution_count": 184,
   "metadata": {},
   "outputs": [
    {
     "name": "stdout",
     "output_type": "stream",
     "text": [
      "Epoch 1/100\n",
      "100/100 [==============================] - 4s 37ms/step - loss: 2.0244 - accuracy: 0.5730 - val_loss: 0.7620 - val_accuracy: 0.6392\n",
      "Epoch 2/100\n",
      "100/100 [==============================] - 4s 37ms/step - loss: 0.7565 - accuracy: 0.6440 - val_loss: 0.7380 - val_accuracy: 0.6672\n",
      "Epoch 3/100\n",
      "100/100 [==============================] - 4s 36ms/step - loss: 0.7254 - accuracy: 0.6718 - val_loss: 0.6863 - val_accuracy: 0.7006\n",
      "Epoch 4/100\n",
      "100/100 [==============================] - 4s 37ms/step - loss: 0.6753 - accuracy: 0.7214 - val_loss: 0.6681 - val_accuracy: 0.7212\n",
      "Epoch 5/100\n",
      "100/100 [==============================] - 4s 36ms/step - loss: 0.6279 - accuracy: 0.7446 - val_loss: 0.6309 - val_accuracy: 0.7356\n",
      "Epoch 6/100\n",
      "100/100 [==============================] - 4s 37ms/step - loss: 0.5745 - accuracy: 0.7852 - val_loss: 0.5577 - val_accuracy: 0.7962\n",
      "Epoch 7/100\n",
      "100/100 [==============================] - 4s 36ms/step - loss: 0.5545 - accuracy: 0.7986 - val_loss: 0.5473 - val_accuracy: 0.7954\n",
      "Epoch 8/100\n",
      "100/100 [==============================] - 4s 37ms/step - loss: 0.5477 - accuracy: 0.8012 - val_loss: 0.5277 - val_accuracy: 0.8102\n",
      "Epoch 9/100\n",
      "100/100 [==============================] - 4s 37ms/step - loss: 0.4973 - accuracy: 0.8332 - val_loss: 0.5022 - val_accuracy: 0.8224\n",
      "Epoch 10/100\n",
      "100/100 [==============================] - 4s 36ms/step - loss: 0.4887 - accuracy: 0.8316 - val_loss: 0.5048 - val_accuracy: 0.8166\n",
      "Epoch 11/100\n",
      "100/100 [==============================] - 4s 37ms/step - loss: 0.4571 - accuracy: 0.8484 - val_loss: 0.4514 - val_accuracy: 0.8478\n",
      "Epoch 12/100\n",
      "100/100 [==============================] - 4s 36ms/step - loss: 0.4340 - accuracy: 0.8596 - val_loss: 0.4607 - val_accuracy: 0.8346\n",
      "Epoch 13/100\n",
      "100/100 [==============================] - 4s 36ms/step - loss: 0.4075 - accuracy: 0.8692 - val_loss: 0.4335 - val_accuracy: 0.8544\n",
      "Epoch 14/100\n",
      "100/100 [==============================] - 4s 37ms/step - loss: 0.4024 - accuracy: 0.8702 - val_loss: 0.4442 - val_accuracy: 0.8536\n",
      "Epoch 15/100\n",
      "100/100 [==============================] - 4s 36ms/step - loss: 0.3811 - accuracy: 0.8782 - val_loss: 0.5022 - val_accuracy: 0.8268\n",
      "Epoch 16/100\n",
      "100/100 [==============================] - 4s 37ms/step - loss: 0.3619 - accuracy: 0.8900 - val_loss: 0.4385 - val_accuracy: 0.8546\n",
      "Epoch 17/100\n",
      "100/100 [==============================] - 4s 37ms/step - loss: 0.3451 - accuracy: 0.8946 - val_loss: 0.4691 - val_accuracy: 0.8486\n",
      "Epoch 18/100\n",
      "100/100 [==============================] - 4s 37ms/step - loss: 0.3285 - accuracy: 0.9008 - val_loss: 0.4726 - val_accuracy: 0.8336\n",
      "Epoch 19/100\n",
      "100/100 [==============================] - 4s 37ms/step - loss: 0.3180 - accuracy: 0.9036 - val_loss: 0.4587 - val_accuracy: 0.8460\n",
      "Epoch 20/100\n",
      "100/100 [==============================] - 4s 36ms/step - loss: 0.3175 - accuracy: 0.9074 - val_loss: 0.4306 - val_accuracy: 0.8690\n",
      "Epoch 21/100\n",
      "100/100 [==============================] - 4s 37ms/step - loss: 0.2945 - accuracy: 0.9160 - val_loss: 0.4690 - val_accuracy: 0.8590\n",
      "Epoch 22/100\n",
      "100/100 [==============================] - 4s 36ms/step - loss: 0.2796 - accuracy: 0.9242 - val_loss: 0.4462 - val_accuracy: 0.8648\n",
      "Epoch 23/100\n",
      "100/100 [==============================] - 4s 37ms/step - loss: 0.2726 - accuracy: 0.9264 - val_loss: 0.4267 - val_accuracy: 0.8820\n",
      "Epoch 24/100\n",
      "100/100 [==============================] - 4s 37ms/step - loss: 0.2514 - accuracy: 0.9306 - val_loss: 0.4557 - val_accuracy: 0.8702\n",
      "Epoch 25/100\n",
      "100/100 [==============================] - 4s 36ms/step - loss: 0.2477 - accuracy: 0.9356 - val_loss: 0.4340 - val_accuracy: 0.8746\n",
      "Epoch 26/100\n",
      "100/100 [==============================] - 4s 37ms/step - loss: 0.2498 - accuracy: 0.9300 - val_loss: 0.4714 - val_accuracy: 0.8712\n",
      "Epoch 27/100\n",
      "100/100 [==============================] - 4s 37ms/step - loss: 0.2201 - accuracy: 0.9460 - val_loss: 0.4298 - val_accuracy: 0.8864\n",
      "Epoch 28/100\n",
      "100/100 [==============================] - 4s 37ms/step - loss: 0.2239 - accuracy: 0.9404 - val_loss: 0.4393 - val_accuracy: 0.8820\n",
      "Epoch 29/100\n",
      "100/100 [==============================] - 4s 37ms/step - loss: 0.1972 - accuracy: 0.9502 - val_loss: 0.4571 - val_accuracy: 0.8798\n",
      "Epoch 30/100\n",
      "100/100 [==============================] - 4s 36ms/step - loss: 0.1931 - accuracy: 0.9530 - val_loss: 0.4862 - val_accuracy: 0.8738\n",
      "Epoch 31/100\n",
      "100/100 [==============================] - 4s 36ms/step - loss: 0.1784 - accuracy: 0.9554 - val_loss: 0.4932 - val_accuracy: 0.8770\n",
      "Epoch 32/100\n",
      "100/100 [==============================] - 4s 36ms/step - loss: 0.1778 - accuracy: 0.9564 - val_loss: 0.6464 - val_accuracy: 0.8524\n",
      "Epoch 33/100\n",
      "100/100 [==============================] - 4s 36ms/step - loss: 0.2045 - accuracy: 0.9522 - val_loss: 0.5045 - val_accuracy: 0.8796\n",
      "63/63 [==============================] - 0s 5ms/step - loss: 0.4887 - accuracy: 0.8830\n",
      "Epoch 1/100\n",
      "84/84 [==============================] - 4s 41ms/step - loss: 0.1644 - accuracy: 0.9624 - val_loss: 0.5440 - val_accuracy: 0.8828\n",
      "Epoch 2/100\n",
      "84/84 [==============================] - 4s 42ms/step - loss: 0.1293 - accuracy: 0.9774 - val_loss: 0.6384 - val_accuracy: 0.8718\n",
      "Epoch 3/100\n",
      "84/84 [==============================] - 3s 42ms/step - loss: 0.1605 - accuracy: 0.9682 - val_loss: 0.4874 - val_accuracy: 0.8856\n",
      "Epoch 4/100\n",
      "84/84 [==============================] - 3s 42ms/step - loss: 0.1495 - accuracy: 0.9686 - val_loss: 0.5763 - val_accuracy: 0.8698\n",
      "Epoch 5/100\n",
      "84/84 [==============================] - 3s 42ms/step - loss: 0.1477 - accuracy: 0.9680 - val_loss: 0.5781 - val_accuracy: 0.8774\n",
      "Epoch 6/100\n",
      "84/84 [==============================] - 3s 41ms/step - loss: 0.1390 - accuracy: 0.9728 - val_loss: 0.5453 - val_accuracy: 0.8884\n",
      "Epoch 7/100\n",
      "84/84 [==============================] - 4s 42ms/step - loss: 0.1119 - accuracy: 0.9820 - val_loss: 0.6435 - val_accuracy: 0.8810\n",
      "Epoch 8/100\n",
      "84/84 [==============================] - 3s 41ms/step - loss: 0.1119 - accuracy: 0.9818 - val_loss: 0.7050 - val_accuracy: 0.8838\n",
      "Epoch 9/100\n",
      "84/84 [==============================] - 4s 42ms/step - loss: 0.1293 - accuracy: 0.9754 - val_loss: 0.6500 - val_accuracy: 0.8770\n",
      "Epoch 10/100\n",
      "84/84 [==============================] - 3s 42ms/step - loss: 0.1025 - accuracy: 0.9840 - val_loss: 0.5927 - val_accuracy: 0.8832\n",
      "Epoch 11/100\n",
      "84/84 [==============================] - 4s 43ms/step - loss: 0.1514 - accuracy: 0.9678 - val_loss: 0.6130 - val_accuracy: 0.8862\n",
      "Epoch 12/100\n",
      "84/84 [==============================] - 4s 42ms/step - loss: 0.1111 - accuracy: 0.9828 - val_loss: 0.7276 - val_accuracy: 0.8864\n",
      "Epoch 13/100\n",
      "84/84 [==============================] - 4s 42ms/step - loss: 0.1114 - accuracy: 0.9826 - val_loss: 0.7439 - val_accuracy: 0.8780\n",
      "63/63 [==============================] - 0s 5ms/step - loss: 0.7300 - accuracy: 0.8810\n",
      "Epoch 1/100\n",
      "72/72 [==============================] - 4s 49ms/step - loss: 0.1302 - accuracy: 0.9740 - val_loss: 0.6473 - val_accuracy: 0.8776\n",
      "Epoch 2/100\n",
      "72/72 [==============================] - 3s 48ms/step - loss: 0.0981 - accuracy: 0.9860 - val_loss: 0.7444 - val_accuracy: 0.8734\n",
      "Epoch 3/100\n",
      "72/72 [==============================] - 3s 48ms/step - loss: 0.0970 - accuracy: 0.9890 - val_loss: 0.7127 - val_accuracy: 0.8850\n",
      "Epoch 4/100\n",
      "72/72 [==============================] - 3s 49ms/step - loss: 0.0971 - accuracy: 0.9852 - val_loss: 0.6995 - val_accuracy: 0.8848\n",
      "Epoch 5/100\n",
      "72/72 [==============================] - 3s 48ms/step - loss: 0.0898 - accuracy: 0.9888 - val_loss: 0.7699 - val_accuracy: 0.8826\n",
      "Epoch 6/100\n",
      "72/72 [==============================] - 3s 48ms/step - loss: 0.0764 - accuracy: 0.9908 - val_loss: 0.7314 - val_accuracy: 0.8888\n",
      "Epoch 7/100\n",
      "72/72 [==============================] - 3s 48ms/step - loss: 0.0778 - accuracy: 0.9898 - val_loss: 0.7323 - val_accuracy: 0.8864\n",
      "Epoch 8/100\n",
      "72/72 [==============================] - 4s 49ms/step - loss: 0.0910 - accuracy: 0.9874 - val_loss: 0.8908 - val_accuracy: 0.8690\n",
      "Epoch 9/100\n",
      "72/72 [==============================] - 3s 48ms/step - loss: 0.1303 - accuracy: 0.9696 - val_loss: 0.6520 - val_accuracy: 0.8824\n",
      "Epoch 10/100\n",
      "72/72 [==============================] - 3s 48ms/step - loss: 0.1193 - accuracy: 0.9770 - val_loss: 0.6594 - val_accuracy: 0.8782\n",
      "Epoch 11/100\n",
      "72/72 [==============================] - 4s 49ms/step - loss: 0.1015 - accuracy: 0.9834 - val_loss: 0.6616 - val_accuracy: 0.8846\n",
      "63/63 [==============================] - 0s 5ms/step - loss: 0.6939 - accuracy: 0.8780\n",
      "Epoch 1/100\n",
      "63/63 [==============================] - 3s 54ms/step - loss: 0.0715 - accuracy: 0.9934 - val_loss: 0.7618 - val_accuracy: 0.8902\n",
      "Epoch 2/100\n",
      "63/63 [==============================] - 3s 55ms/step - loss: 0.0614 - accuracy: 0.9968 - val_loss: 0.8496 - val_accuracy: 0.8904\n",
      "Epoch 3/100\n",
      "63/63 [==============================] - 3s 54ms/step - loss: 0.0660 - accuracy: 0.9936 - val_loss: 1.0456 - val_accuracy: 0.8736\n",
      "Epoch 4/100\n",
      "63/63 [==============================] - 3s 54ms/step - loss: 0.0738 - accuracy: 0.9912 - val_loss: 0.9999 - val_accuracy: 0.8668\n",
      "Epoch 5/100\n",
      "63/63 [==============================] - 3s 54ms/step - loss: 0.0815 - accuracy: 0.9886 - val_loss: 0.6974 - val_accuracy: 0.8912\n",
      "Epoch 6/100\n",
      "63/63 [==============================] - 3s 54ms/step - loss: 0.0694 - accuracy: 0.9936 - val_loss: 0.8704 - val_accuracy: 0.8810\n",
      "Epoch 7/100\n",
      "63/63 [==============================] - 3s 55ms/step - loss: 0.0710 - accuracy: 0.9920 - val_loss: 0.9248 - val_accuracy: 0.8804\n",
      "Epoch 8/100\n",
      "63/63 [==============================] - 3s 54ms/step - loss: 0.0831 - accuracy: 0.9852 - val_loss: 0.8320 - val_accuracy: 0.8866\n",
      "Epoch 9/100\n",
      "63/63 [==============================] - 3s 54ms/step - loss: 0.1139 - accuracy: 0.9770 - val_loss: 0.7039 - val_accuracy: 0.8664\n",
      "Epoch 10/100\n",
      "63/63 [==============================] - 3s 55ms/step - loss: 0.1201 - accuracy: 0.9756 - val_loss: 0.6441 - val_accuracy: 0.8786\n",
      "Epoch 11/100\n",
      "63/63 [==============================] - 3s 54ms/step - loss: 0.0800 - accuracy: 0.9896 - val_loss: 0.8290 - val_accuracy: 0.8700\n",
      "Epoch 12/100\n",
      "63/63 [==============================] - 3s 55ms/step - loss: 0.0858 - accuracy: 0.9850 - val_loss: 0.7585 - val_accuracy: 0.8808\n",
      "Epoch 13/100\n",
      "63/63 [==============================] - 3s 54ms/step - loss: 0.0828 - accuracy: 0.9886 - val_loss: 0.7476 - val_accuracy: 0.8770\n",
      "Epoch 14/100\n",
      "63/63 [==============================] - 3s 54ms/step - loss: 0.0708 - accuracy: 0.9904 - val_loss: 0.8888 - val_accuracy: 0.8822\n",
      "Epoch 15/100\n",
      "63/63 [==============================] - 3s 55ms/step - loss: 0.0726 - accuracy: 0.9908 - val_loss: 0.8232 - val_accuracy: 0.8864\n",
      "Epoch 16/100\n",
      "63/63 [==============================] - 3s 54ms/step - loss: 0.0559 - accuracy: 0.9962 - val_loss: 1.1409 - val_accuracy: 0.8672\n",
      "Epoch 17/100\n",
      "63/63 [==============================] - 3s 55ms/step - loss: 0.0629 - accuracy: 0.9950 - val_loss: 0.9262 - val_accuracy: 0.8852\n",
      "Epoch 18/100\n",
      "63/63 [==============================] - 3s 55ms/step - loss: 0.1138 - accuracy: 0.9760 - val_loss: 0.6768 - val_accuracy: 0.8834\n",
      "Epoch 19/100\n",
      "63/63 [==============================] - 3s 54ms/step - loss: 0.1180 - accuracy: 0.9786 - val_loss: 0.6910 - val_accuracy: 0.8728\n",
      "Epoch 20/100\n",
      "63/63 [==============================] - 3s 55ms/step - loss: 0.0680 - accuracy: 0.9922 - val_loss: 0.7462 - val_accuracy: 0.8864\n",
      "63/63 [==============================] - 0s 6ms/step - loss: 0.7966 - accuracy: 0.8790\n",
      "Epoch 1/100\n",
      "56/56 [==============================] - 3s 61ms/step - loss: 0.0629 - accuracy: 0.9930 - val_loss: 0.7588 - val_accuracy: 0.8896\n",
      "Epoch 2/100\n",
      "56/56 [==============================] - 3s 60ms/step - loss: 0.0501 - accuracy: 0.9978 - val_loss: 0.8230 - val_accuracy: 0.8940\n",
      "Epoch 3/100\n",
      "56/56 [==============================] - 3s 62ms/step - loss: 0.0587 - accuracy: 0.9934 - val_loss: 0.8570 - val_accuracy: 0.8888\n",
      "Epoch 4/100\n",
      "56/56 [==============================] - 3s 60ms/step - loss: 0.0585 - accuracy: 0.9952 - val_loss: 0.8262 - val_accuracy: 0.8842\n",
      "Epoch 5/100\n",
      "56/56 [==============================] - 3s 61ms/step - loss: 0.0544 - accuracy: 0.9966 - val_loss: 0.9790 - val_accuracy: 0.8936\n",
      "Epoch 6/100\n",
      "56/56 [==============================] - 3s 60ms/step - loss: 0.0526 - accuracy: 0.9966 - val_loss: 0.9301 - val_accuracy: 0.8888\n",
      "Epoch 7/100\n",
      "56/56 [==============================] - 3s 59ms/step - loss: 0.0613 - accuracy: 0.9926 - val_loss: 0.9448 - val_accuracy: 0.8756\n",
      "Epoch 8/100\n",
      "56/56 [==============================] - 3s 60ms/step - loss: 0.0774 - accuracy: 0.9868 - val_loss: 0.8307 - val_accuracy: 0.8744\n",
      "Epoch 9/100\n",
      "56/56 [==============================] - 3s 61ms/step - loss: 0.0652 - accuracy: 0.9922 - val_loss: 0.8264 - val_accuracy: 0.8732\n",
      "Epoch 10/100\n",
      "56/56 [==============================] - 3s 60ms/step - loss: 0.0505 - accuracy: 0.9974 - val_loss: 0.8327 - val_accuracy: 0.8930\n",
      "Epoch 11/100\n",
      "56/56 [==============================] - 3s 60ms/step - loss: 0.0646 - accuracy: 0.9910 - val_loss: 0.8287 - val_accuracy: 0.8756\n",
      "63/63 [==============================] - 0s 5ms/step - loss: 0.9020 - accuracy: 0.8680\n",
      "Epoch 1/100\n",
      "50/50 [==============================] - 3s 68ms/step - loss: 0.0838 - accuracy: 0.9842 - val_loss: 0.7832 - val_accuracy: 0.8824\n",
      "Epoch 2/100\n",
      "50/50 [==============================] - 3s 68ms/step - loss: 0.0574 - accuracy: 0.9934 - val_loss: 0.8884 - val_accuracy: 0.8872\n",
      "Epoch 3/100\n",
      "50/50 [==============================] - 3s 68ms/step - loss: 0.0485 - accuracy: 0.9968 - val_loss: 0.8754 - val_accuracy: 0.8946\n",
      "Epoch 4/100\n",
      "50/50 [==============================] - 3s 68ms/step - loss: 0.0432 - accuracy: 0.9980 - val_loss: 0.9273 - val_accuracy: 0.8936\n",
      "Epoch 5/100\n",
      "50/50 [==============================] - 3s 68ms/step - loss: 0.0424 - accuracy: 0.9982 - val_loss: 1.1416 - val_accuracy: 0.8808\n",
      "Epoch 6/100\n",
      "50/50 [==============================] - 3s 68ms/step - loss: 0.0418 - accuracy: 0.9980 - val_loss: 0.9581 - val_accuracy: 0.8924\n",
      "Epoch 7/100\n",
      "50/50 [==============================] - 3s 69ms/step - loss: 0.0456 - accuracy: 0.9968 - val_loss: 0.9249 - val_accuracy: 0.8920\n",
      "Epoch 8/100\n",
      "50/50 [==============================] - 3s 69ms/step - loss: 0.0585 - accuracy: 0.9926 - val_loss: 0.9712 - val_accuracy: 0.8828\n",
      "Epoch 9/100\n",
      "50/50 [==============================] - 3s 69ms/step - loss: 0.0686 - accuracy: 0.9900 - val_loss: 0.8594 - val_accuracy: 0.8678\n",
      "Epoch 10/100\n",
      "50/50 [==============================] - 3s 69ms/step - loss: 0.0687 - accuracy: 0.9892 - val_loss: 0.8114 - val_accuracy: 0.8814\n",
      "Epoch 11/100\n",
      "50/50 [==============================] - 3s 67ms/step - loss: 0.0650 - accuracy: 0.9910 - val_loss: 0.9062 - val_accuracy: 0.8832\n",
      "63/63 [==============================] - 0s 6ms/step - loss: 1.0390 - accuracy: 0.8785\n",
      "Epoch 1/100\n",
      "46/46 [==============================] - 3s 72ms/step - loss: 0.0526 - accuracy: 0.9952 - val_loss: 0.8204 - val_accuracy: 0.8810\n",
      "Epoch 2/100\n",
      "46/46 [==============================] - 3s 72ms/step - loss: 0.0544 - accuracy: 0.9932 - val_loss: 0.8574 - val_accuracy: 0.8834\n",
      "Epoch 3/100\n",
      "46/46 [==============================] - 3s 73ms/step - loss: 0.0440 - accuracy: 0.9972 - val_loss: 0.8758 - val_accuracy: 0.8946\n",
      "Epoch 4/100\n",
      "46/46 [==============================] - 3s 73ms/step - loss: 0.0390 - accuracy: 0.9988 - val_loss: 0.8756 - val_accuracy: 0.8954\n",
      "Epoch 5/100\n",
      "46/46 [==============================] - 3s 73ms/step - loss: 0.0408 - accuracy: 0.9978 - val_loss: 0.9453 - val_accuracy: 0.8886\n",
      "Epoch 6/100\n",
      "46/46 [==============================] - 3s 71ms/step - loss: 0.0372 - accuracy: 0.9986 - val_loss: 0.9370 - val_accuracy: 0.8946\n",
      "Epoch 7/100\n",
      "46/46 [==============================] - 3s 73ms/step - loss: 0.0342 - accuracy: 0.9996 - val_loss: 1.1679 - val_accuracy: 0.8840\n",
      "Epoch 8/100\n",
      "46/46 [==============================] - 3s 73ms/step - loss: 0.0413 - accuracy: 0.9960 - val_loss: 1.0210 - val_accuracy: 0.8912\n",
      "Epoch 9/100\n",
      "46/46 [==============================] - 3s 71ms/step - loss: 0.0361 - accuracy: 0.9986 - val_loss: 1.0399 - val_accuracy: 0.8896\n",
      "Epoch 10/100\n",
      "46/46 [==============================] - 3s 72ms/step - loss: 0.0436 - accuracy: 0.9942 - val_loss: 0.9921 - val_accuracy: 0.8826\n",
      "Epoch 11/100\n",
      "46/46 [==============================] - 3s 72ms/step - loss: 0.0930 - accuracy: 0.9830 - val_loss: 1.0485 - val_accuracy: 0.8464\n",
      "63/63 [==============================] - 0s 6ms/step - loss: 1.1657 - accuracy: 0.8435\n",
      "Epoch 1/100\n",
      "42/42 [==============================] - 3s 81ms/step - loss: 0.1176 - accuracy: 0.9716 - val_loss: 0.6080 - val_accuracy: 0.8848\n",
      "Epoch 2/100\n",
      "42/42 [==============================] - 3s 79ms/step - loss: 0.0548 - accuracy: 0.9932 - val_loss: 0.9023 - val_accuracy: 0.8924\n",
      "Epoch 3/100\n",
      "42/42 [==============================] - 3s 81ms/step - loss: 0.0624 - accuracy: 0.9914 - val_loss: 0.8917 - val_accuracy: 0.8812\n",
      "Epoch 4/100\n",
      "42/42 [==============================] - 3s 81ms/step - loss: 0.0519 - accuracy: 0.9948 - val_loss: 0.7558 - val_accuracy: 0.8916\n",
      "Epoch 5/100\n",
      "42/42 [==============================] - 3s 79ms/step - loss: 0.0443 - accuracy: 0.9970 - val_loss: 0.8309 - val_accuracy: 0.8948\n",
      "Epoch 6/100\n",
      "42/42 [==============================] - 3s 81ms/step - loss: 0.0411 - accuracy: 0.9980 - val_loss: 0.8881 - val_accuracy: 0.8898\n",
      "Epoch 7/100\n",
      "42/42 [==============================] - 3s 79ms/step - loss: 0.0367 - accuracy: 0.9986 - val_loss: 0.9679 - val_accuracy: 0.8942\n",
      "Epoch 8/100\n",
      "42/42 [==============================] - 3s 79ms/step - loss: 0.0383 - accuracy: 0.9986 - val_loss: 1.0155 - val_accuracy: 0.8814\n",
      "Epoch 9/100\n",
      "42/42 [==============================] - 3s 78ms/step - loss: 0.0362 - accuracy: 0.9994 - val_loss: 1.0846 - val_accuracy: 0.8942\n",
      "Epoch 10/100\n",
      "42/42 [==============================] - 3s 80ms/step - loss: 0.0349 - accuracy: 0.9996 - val_loss: 1.0769 - val_accuracy: 0.8944\n",
      "Epoch 11/100\n",
      "42/42 [==============================] - 3s 80ms/step - loss: 0.0329 - accuracy: 0.9998 - val_loss: 1.1230 - val_accuracy: 0.8972\n",
      "63/63 [==============================] - 0s 6ms/step - loss: 1.2940 - accuracy: 0.8785\n",
      "Epoch 1/100\n",
      "39/39 [==============================] - 3s 85ms/step - loss: 0.0326 - accuracy: 0.9996 - val_loss: 1.1763 - val_accuracy: 0.8900\n",
      "Epoch 2/100\n",
      "39/39 [==============================] - 3s 84ms/step - loss: 0.0368 - accuracy: 0.9978 - val_loss: 1.2155 - val_accuracy: 0.8936\n",
      "Epoch 3/100\n",
      "39/39 [==============================] - 3s 85ms/step - loss: 0.0342 - accuracy: 0.9988 - val_loss: 1.1088 - val_accuracy: 0.8924\n",
      "Epoch 4/100\n",
      "39/39 [==============================] - 3s 86ms/step - loss: 0.0520 - accuracy: 0.9930 - val_loss: 0.9329 - val_accuracy: 0.8818\n",
      "Epoch 5/100\n",
      "39/39 [==============================] - 3s 84ms/step - loss: 0.0482 - accuracy: 0.9944 - val_loss: 0.8898 - val_accuracy: 0.8842\n",
      "Epoch 6/100\n",
      "39/39 [==============================] - 3s 85ms/step - loss: 0.0388 - accuracy: 0.9978 - val_loss: 1.0197 - val_accuracy: 0.8856\n",
      "Epoch 7/100\n",
      "39/39 [==============================] - 3s 83ms/step - loss: 0.0470 - accuracy: 0.9946 - val_loss: 0.9871 - val_accuracy: 0.8904\n",
      "Epoch 8/100\n",
      "39/39 [==============================] - 3s 84ms/step - loss: 0.0420 - accuracy: 0.9956 - val_loss: 0.9856 - val_accuracy: 0.8876\n",
      "Epoch 9/100\n",
      "39/39 [==============================] - 3s 84ms/step - loss: 0.0531 - accuracy: 0.9930 - val_loss: 1.0844 - val_accuracy: 0.8692\n",
      "Epoch 10/100\n",
      "39/39 [==============================] - 3s 83ms/step - loss: 0.0558 - accuracy: 0.9918 - val_loss: 0.9336 - val_accuracy: 0.8790\n",
      "Epoch 11/100\n",
      "39/39 [==============================] - 3s 84ms/step - loss: 0.0506 - accuracy: 0.9946 - val_loss: 0.9787 - val_accuracy: 0.8786\n",
      "Epoch 12/100\n",
      "39/39 [==============================] - 3s 85ms/step - loss: 0.0559 - accuracy: 0.9912 - val_loss: 0.9205 - val_accuracy: 0.8830\n",
      "Epoch 13/100\n",
      "39/39 [==============================] - 3s 87ms/step - loss: 0.0412 - accuracy: 0.9956 - val_loss: 0.9106 - val_accuracy: 0.8834\n",
      "Epoch 14/100\n",
      "39/39 [==============================] - 3s 84ms/step - loss: 0.0386 - accuracy: 0.9972 - val_loss: 1.0161 - val_accuracy: 0.8842\n",
      "Epoch 15/100\n",
      "39/39 [==============================] - 3s 84ms/step - loss: 0.0556 - accuracy: 0.9934 - val_loss: 0.9550 - val_accuracy: 0.8726\n",
      "63/63 [==============================] - 0s 5ms/step - loss: 1.1236 - accuracy: 0.8740\n",
      "Epoch 1/100\n",
      "36/36 [==============================] - 3s 93ms/step - loss: 0.0466 - accuracy: 0.9944 - val_loss: 1.0471 - val_accuracy: 0.8818\n",
      "Epoch 2/100\n",
      "36/36 [==============================] - 3s 90ms/step - loss: 0.0386 - accuracy: 0.9968 - val_loss: 0.9325 - val_accuracy: 0.8880\n",
      "Epoch 3/100\n",
      "36/36 [==============================] - 3s 91ms/step - loss: 0.0329 - accuracy: 0.9988 - val_loss: 1.0177 - val_accuracy: 0.8878\n",
      "Epoch 4/100\n",
      "36/36 [==============================] - 3s 91ms/step - loss: 0.0455 - accuracy: 0.9942 - val_loss: 1.0309 - val_accuracy: 0.8844\n",
      "Epoch 5/100\n",
      "36/36 [==============================] - 3s 91ms/step - loss: 0.0497 - accuracy: 0.9938 - val_loss: 0.9349 - val_accuracy: 0.8770\n",
      "Epoch 6/100\n",
      "36/36 [==============================] - 3s 92ms/step - loss: 0.0662 - accuracy: 0.9890 - val_loss: 0.8191 - val_accuracy: 0.8842\n",
      "Epoch 7/100\n",
      "36/36 [==============================] - 3s 91ms/step - loss: 0.0400 - accuracy: 0.9952 - val_loss: 0.8781 - val_accuracy: 0.8774\n",
      "Epoch 8/100\n",
      "36/36 [==============================] - 3s 92ms/step - loss: 0.0353 - accuracy: 0.9978 - val_loss: 0.9101 - val_accuracy: 0.8836\n",
      "Epoch 9/100\n",
      "36/36 [==============================] - 3s 92ms/step - loss: 0.0310 - accuracy: 0.9994 - val_loss: 0.9605 - val_accuracy: 0.8922\n",
      "Epoch 10/100\n",
      "36/36 [==============================] - 3s 90ms/step - loss: 0.0329 - accuracy: 0.9978 - val_loss: 1.0388 - val_accuracy: 0.8894\n",
      "Epoch 11/100\n",
      "36/36 [==============================] - 3s 90ms/step - loss: 0.0329 - accuracy: 0.9982 - val_loss: 1.1146 - val_accuracy: 0.8818\n",
      "Epoch 12/100\n",
      "36/36 [==============================] - 3s 91ms/step - loss: 0.0356 - accuracy: 0.9976 - val_loss: 1.0036 - val_accuracy: 0.8874\n",
      "Epoch 13/100\n",
      "36/36 [==============================] - 3s 91ms/step - loss: 0.0434 - accuracy: 0.9956 - val_loss: 0.9420 - val_accuracy: 0.8844\n",
      "Epoch 14/100\n",
      "36/36 [==============================] - 3s 92ms/step - loss: 0.0349 - accuracy: 0.9972 - val_loss: 0.9707 - val_accuracy: 0.8856\n",
      "Epoch 15/100\n",
      "36/36 [==============================] - 3s 93ms/step - loss: 0.0334 - accuracy: 0.9972 - val_loss: 1.0462 - val_accuracy: 0.8830\n",
      "Epoch 16/100\n",
      "36/36 [==============================] - 3s 91ms/step - loss: 0.0310 - accuracy: 0.9986 - val_loss: 0.9813 - val_accuracy: 0.8882\n",
      "63/63 [==============================] - 0s 6ms/step - loss: 1.1068 - accuracy: 0.8810\n",
      "Epoch 1/100\n",
      "34/34 [==============================] - 3s 98ms/step - loss: 0.0292 - accuracy: 0.9990 - val_loss: 1.0039 - val_accuracy: 0.8858\n",
      "Epoch 2/100\n",
      "34/34 [==============================] - 3s 97ms/step - loss: 0.0294 - accuracy: 0.9986 - val_loss: 1.0328 - val_accuracy: 0.8868\n",
      "Epoch 3/100\n",
      "34/34 [==============================] - 3s 96ms/step - loss: 0.0250 - accuracy: 1.0000 - val_loss: 1.0888 - val_accuracy: 0.8958\n",
      "Epoch 4/100\n",
      "34/34 [==============================] - 3s 97ms/step - loss: 0.0289 - accuracy: 0.9982 - val_loss: 1.1207 - val_accuracy: 0.8870\n",
      "Epoch 5/100\n",
      "34/34 [==============================] - 3s 96ms/step - loss: 0.0260 - accuracy: 0.9998 - val_loss: 1.1046 - val_accuracy: 0.8894\n",
      "Epoch 6/100\n",
      "34/34 [==============================] - 3s 97ms/step - loss: 0.0260 - accuracy: 0.9992 - val_loss: 1.1482 - val_accuracy: 0.8896\n",
      "Epoch 7/100\n",
      "34/34 [==============================] - 3s 96ms/step - loss: 0.0357 - accuracy: 0.9964 - val_loss: 1.2787 - val_accuracy: 0.8726\n",
      "Epoch 8/100\n",
      "34/34 [==============================] - 3s 98ms/step - loss: 0.0441 - accuracy: 0.9934 - val_loss: 1.2755 - val_accuracy: 0.8634\n",
      "Epoch 9/100\n",
      "34/34 [==============================] - 3s 98ms/step - loss: 0.0938 - accuracy: 0.9834 - val_loss: 0.8976 - val_accuracy: 0.8752\n",
      "Epoch 10/100\n",
      "34/34 [==============================] - 3s 96ms/step - loss: 0.0564 - accuracy: 0.9908 - val_loss: 0.7627 - val_accuracy: 0.8850\n",
      "Epoch 11/100\n",
      "34/34 [==============================] - 3s 98ms/step - loss: 0.0322 - accuracy: 0.9988 - val_loss: 0.8595 - val_accuracy: 0.8920\n",
      "Epoch 12/100\n",
      "34/34 [==============================] - 3s 97ms/step - loss: 0.0280 - accuracy: 0.9996 - val_loss: 0.9387 - val_accuracy: 0.8906\n",
      "Epoch 13/100\n",
      "34/34 [==============================] - 3s 97ms/step - loss: 0.0307 - accuracy: 0.9986 - val_loss: 0.9640 - val_accuracy: 0.8860\n",
      "Epoch 14/100\n",
      "34/34 [==============================] - 3s 99ms/step - loss: 0.0278 - accuracy: 0.9994 - val_loss: 0.9951 - val_accuracy: 0.8890\n",
      "Epoch 15/100\n",
      "34/34 [==============================] - 3s 97ms/step - loss: 0.0274 - accuracy: 0.9996 - val_loss: 1.0338 - val_accuracy: 0.8870\n",
      "Epoch 16/100\n",
      "34/34 [==============================] - 3s 97ms/step - loss: 0.0304 - accuracy: 0.9980 - val_loss: 1.1166 - val_accuracy: 0.8838\n",
      "Epoch 17/100\n",
      "34/34 [==============================] - 3s 99ms/step - loss: 0.0399 - accuracy: 0.9954 - val_loss: 0.9325 - val_accuracy: 0.8878\n",
      "Epoch 18/100\n",
      "34/34 [==============================] - 3s 97ms/step - loss: 0.0581 - accuracy: 0.9904 - val_loss: 0.8153 - val_accuracy: 0.8842\n",
      "Epoch 19/100\n",
      "34/34 [==============================] - 3s 97ms/step - loss: 0.0396 - accuracy: 0.9958 - val_loss: 0.8793 - val_accuracy: 0.8838\n",
      "Epoch 20/100\n",
      "34/34 [==============================] - 3s 98ms/step - loss: 0.0296 - accuracy: 0.9992 - val_loss: 0.9539 - val_accuracy: 0.8840\n",
      "63/63 [==============================] - 0s 6ms/step - loss: 1.0878 - accuracy: 0.8770\n"
     ]
    }
   ],
   "source": [
    "model = Sequential()\n",
    "model.add(Conv2D(64, kernel_size=(3,3), activation='relu', kernel_regularizer=keras.regularizers.l1_l2(.001), \n",
    "                  padding='same', input_shape=(32,32,3)))\n",
    "model.add(MaxPooling2D((2, 2)))\n",
    "model.add(Conv2D(64, (3, 3), activation='relu'))\n",
    "model.add(MaxPooling2D((2, 2)))\n",
    "model.add(Conv2D(64, (3, 3), activation='relu'))\n",
    "model.add(Flatten())\n",
    "model.add(Dense(64, activation='relu'))\n",
    "model.add(Dropout(rate=.5))\n",
    "model.add(Dense(2))\n",
    "\n",
    "early_stopping = EarlyStopping(monitor='val_loss', patience=10)\n",
    "\n",
    "model.compile(optimizer='adam',\n",
    "               loss=tf.keras.losses.SparseCategoricalCrossentropy(from_logits=True),\n",
    "               metrics=['accuracy'])\n",
    "\n",
    "batch_size = [50,60,70,80,90,100,110,120,130,140,150]\n",
    "accuracy = []\n",
    "for x in batch_size:\n",
    "    history = model.fit(Xtrain, ytrain, epochs=100, batch_size=x,\n",
    "                        validation_data=(Xvalid, yvalid),\n",
    "                        callbacks=[early_stopping])\n",
    "    accuracy.append(model.evaluate(Xtest, ytest)[1])"
   ]
  },
  {
   "cell_type": "code",
   "execution_count": 185,
   "metadata": {},
   "outputs": [
    {
     "data": {
      "text/plain": [
       "[<matplotlib.lines.Line2D at 0x19c3f3e85e0>]"
      ]
     },
     "execution_count": 185,
     "metadata": {},
     "output_type": "execute_result"
    },
    {
     "data": {
      "image/png": "[encoded data removed]",
      "text/plain": [
       "<Figure size 432x288 with 1 Axes>"
      ]
     },
     "metadata": {
      "needs_background": "light"
     },
     "output_type": "display_data"
    }
   ],
   "source": [
    "graph = pd.DataFrame({'batch_size':batch_size,'accuracy':accuracy})\n",
    "plt.plot(graph['batch_size'],graph['accuracy'])"
   ]
  },
  {
   "cell_type": "code",
   "execution_count": 186,
   "metadata": {},
   "outputs": [
    {
     "data": {
      "text/plain": [
       "0    50\n",
       "Name: batch_size, dtype: int64"
      ]
     },
     "execution_count": 186,
     "metadata": {},
     "output_type": "execute_result"
    }
   ],
   "source": [
    "best_batch = graph['batch_size'].loc[graph['accuracy'] == max(graph['accuracy'])]\n",
    "best_batch"
   ]
  },
  {
   "cell_type": "code",
   "execution_count": 187,
   "metadata": {},
   "outputs": [
    {
     "name": "stdout",
     "output_type": "stream",
     "text": [
      "Epoch 1/100\n",
      "42/42 [==============================] - 4s 80ms/step - loss: 2.3603 - accuracy: 0.5586 - val_loss: 0.7749 - val_accuracy: 0.6394\n",
      "Epoch 2/100\n",
      "42/42 [==============================] - 3s 76ms/step - loss: 0.7561 - accuracy: 0.6512 - val_loss: 0.6995 - val_accuracy: 0.7120\n",
      "Epoch 3/100\n",
      "42/42 [==============================] - 3s 77ms/step - loss: 0.7040 - accuracy: 0.6898 - val_loss: 0.6690 - val_accuracy: 0.7406\n",
      "Epoch 4/100\n",
      "42/42 [==============================] - 3s 75ms/step - loss: 0.6424 - accuracy: 0.7430 - val_loss: 0.6209 - val_accuracy: 0.7516\n",
      "Epoch 5/100\n",
      "42/42 [==============================] - 3s 78ms/step - loss: 0.6025 - accuracy: 0.7708 - val_loss: 0.5651 - val_accuracy: 0.7968\n",
      "Epoch 6/100\n",
      "42/42 [==============================] - 3s 77ms/step - loss: 0.5651 - accuracy: 0.8008 - val_loss: 0.5252 - val_accuracy: 0.8140\n",
      "Epoch 7/100\n",
      "42/42 [==============================] - 3s 76ms/step - loss: 0.5130 - accuracy: 0.8172 - val_loss: 0.5177 - val_accuracy: 0.8168\n",
      "Epoch 8/100\n",
      "42/42 [==============================] - 3s 81ms/step - loss: 0.4654 - accuracy: 0.8502 - val_loss: 0.4755 - val_accuracy: 0.8382\n",
      "Epoch 9/100\n",
      "42/42 [==============================] - 3s 79ms/step - loss: 0.4750 - accuracy: 0.8498 - val_loss: 0.4983 - val_accuracy: 0.8278\n",
      "Epoch 10/100\n",
      "42/42 [==============================] - 3s 81ms/step - loss: 0.4338 - accuracy: 0.8630 - val_loss: 0.4808 - val_accuracy: 0.8402\n",
      "Epoch 11/100\n",
      "42/42 [==============================] - 3s 81ms/step - loss: 0.4307 - accuracy: 0.8658 - val_loss: 0.4877 - val_accuracy: 0.8332\n",
      "Epoch 12/100\n",
      "42/42 [==============================] - 3s 79ms/step - loss: 0.3837 - accuracy: 0.8828 - val_loss: 0.4312 - val_accuracy: 0.8628\n",
      "Epoch 13/100\n",
      "42/42 [==============================] - 3s 81ms/step - loss: 0.3761 - accuracy: 0.8928 - val_loss: 0.4556 - val_accuracy: 0.8624\n",
      "Epoch 14/100\n",
      "42/42 [==============================] - 3s 81ms/step - loss: 0.3442 - accuracy: 0.9028 - val_loss: 0.4635 - val_accuracy: 0.8626\n",
      "Epoch 15/100\n",
      "42/42 [==============================] - 3s 81ms/step - loss: 0.3327 - accuracy: 0.9074 - val_loss: 0.4692 - val_accuracy: 0.8568\n",
      "Epoch 16/100\n",
      "42/42 [==============================] - 3s 81ms/step - loss: 0.3238 - accuracy: 0.9104 - val_loss: 0.4235 - val_accuracy: 0.8700\n",
      "Epoch 17/100\n",
      "42/42 [==============================] - 3s 80ms/step - loss: 0.2971 - accuracy: 0.9222 - val_loss: 0.4380 - val_accuracy: 0.8724\n",
      "Epoch 18/100\n",
      "42/42 [==============================] - 3s 82ms/step - loss: 0.2754 - accuracy: 0.9330 - val_loss: 0.4191 - val_accuracy: 0.8754\n",
      "Epoch 19/100\n",
      "42/42 [==============================] - 3s 80ms/step - loss: 0.2588 - accuracy: 0.9386 - val_loss: 0.4328 - val_accuracy: 0.8766\n",
      "Epoch 20/100\n",
      "42/42 [==============================] - 3s 81ms/step - loss: 0.2705 - accuracy: 0.9312 - val_loss: 0.4380 - val_accuracy: 0.8600\n",
      "Epoch 21/100\n",
      "42/42 [==============================] - 3s 80ms/step - loss: 0.2546 - accuracy: 0.9354 - val_loss: 0.4617 - val_accuracy: 0.8784\n",
      "Epoch 22/100\n",
      "42/42 [==============================] - 3s 80ms/step - loss: 0.2431 - accuracy: 0.9444 - val_loss: 0.4738 - val_accuracy: 0.8758\n",
      "Epoch 23/100\n",
      "42/42 [==============================] - 3s 81ms/step - loss: 0.2313 - accuracy: 0.9470 - val_loss: 0.4925 - val_accuracy: 0.8738\n",
      "Epoch 24/100\n",
      "42/42 [==============================] - 3s 81ms/step - loss: 0.2183 - accuracy: 0.9468 - val_loss: 0.5197 - val_accuracy: 0.8750\n",
      "Epoch 25/100\n",
      "42/42 [==============================] - 3s 80ms/step - loss: 0.2363 - accuracy: 0.9434 - val_loss: 0.5216 - val_accuracy: 0.8730\n",
      "Epoch 26/100\n",
      "42/42 [==============================] - 3s 80ms/step - loss: 0.1915 - accuracy: 0.9606 - val_loss: 0.5083 - val_accuracy: 0.8818\n",
      "Epoch 27/100\n",
      "42/42 [==============================] - 3s 81ms/step - loss: 0.1839 - accuracy: 0.9638 - val_loss: 0.4888 - val_accuracy: 0.8784\n",
      "Epoch 28/100\n",
      "42/42 [==============================] - 3s 81ms/step - loss: 0.1882 - accuracy: 0.9612 - val_loss: 0.5170 - val_accuracy: 0.8760\n",
      "63/63 [==============================] - 0s 6ms/step - loss: 0.4987 - accuracy: 0.8865\n"
     ]
    },
    {
     "data": {
      "text/plain": [
       "[0.49871525168418884, 0.8865000009536743]"
      ]
     },
     "execution_count": 187,
     "metadata": {},
     "output_type": "execute_result"
    }
   ],
   "source": [
    "model = Sequential()\n",
    "model.add(Conv2D(64, kernel_size=(3,3), activation='relu', kernel_regularizer=keras.regularizers.l1_l2(.001), \n",
    "                  padding='same', input_shape=(32,32,3)))\n",
    "model.add(MaxPooling2D((2, 2)))\n",
    "model.add(Conv2D(64, (3, 3), activation='relu'))\n",
    "model.add(MaxPooling2D((2, 2)))\n",
    "model.add(Conv2D(64, (3, 3), activation='relu'))\n",
    "model.add(Flatten())\n",
    "model.add(Dense(64, activation='relu'))\n",
    "model.add(Dropout(rate=.5))\n",
    "model.add(Dense(2))\n",
    "\n",
    "early_stopping = EarlyStopping(monitor='val_loss', patience=10)\n",
    "\n",
    "model.compile(optimizer='adam',\n",
    "               loss=tf.keras.losses.SparseCategoricalCrossentropy(from_logits=True),\n",
    "               metrics=['accuracy'])\n",
    "history = model.fit(Xtrain, ytrain, epochs=100, batch_size=120,\n",
    "                        validation_data=(Xvalid, yvalid),\n",
    "                        callbacks=[early_stopping])\n",
    "model.evaluate(Xtest, ytest)"
   ]
  },
  {
   "cell_type": "code",
   "execution_count": 188,
   "metadata": {},
   "outputs": [
    {
     "data": {
      "text/plain": [
       "<matplotlib.legend.Legend at 0x19c4c2b96a0>"
      ]
     },
     "execution_count": 188,
     "metadata": {},
     "output_type": "execute_result"
    },
    {
     "data": {
      "image/png": "[encoded data removed]",
      "text/plain": [
       "<Figure size 432x288 with 1 Axes>"
      ]
     },
     "metadata": {
      "needs_background": "light"
     },
     "output_type": "display_data"
    }
   ],
   "source": [
    "plt.plot(history.history['accuracy'], label='Training accuracy')\n",
    "\n",
    "plt.plot(history.history['val_accuracy'], label='Validation accuracy')\n",
    "plt.legend()"
   ]
  },
  {
   "cell_type": "code",
   "execution_count": 189,
   "metadata": {},
   "outputs": [
    {
     "name": "stdout",
     "output_type": "stream",
     "text": [
      "Recall: 0.903\n",
      "Precision: 0.8741529525653436\n"
     ]
    }
   ],
   "source": [
    "preds = model.predict(Xtest, verbose=0)\n",
    "testpreds = []\n",
    "length = np.arange(0,2000)\n",
    "preds[0,0]\n",
    "for x in length:\n",
    "    if preds[x,0] > preds[x,1]:\n",
    "        testpreds.append(False)\n",
    "    else:\n",
    "        testpreds.append(True)\n",
    "\n",
    "print(\"Recall:\",recall_score(ytest,testpreds))\n",
    "print(\"Precision:\", precision_score(ytest,testpreds))"
   ]
  }
 ],
 "metadata": {
  "interpreter": {
   "hash": "f620213ce0b9ef077507348f9327221f48010fef20ec248d7867d04206e29b1a"
  },
  "kernelspec": {
   "display_name": "Python 3.9.7 64-bit (windows store)",
   "name": "python3"
  },
  "language_info": {
   "codemirror_mode": {
    "name": "ipython",
    "version": 3
   },
   "file_extension": ".py",
   "mimetype": "text/x-python",
   "name": "python",
   "nbconvert_exporter": "python",
   "pygments_lexer": "ipython3",
   "version": "3.9.7"
  },
  "orig_nbformat": 4
 },
 "nbformat": 4,
 "nbformat_minor": 2
}
