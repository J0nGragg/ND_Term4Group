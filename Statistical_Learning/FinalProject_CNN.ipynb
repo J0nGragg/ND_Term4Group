{
 "cells": [
  {
   "cell_type": "code",
   "execution_count": 64,
   "metadata": {},
   "outputs": [],
   "source": [
    "import pandas as pd\n",
    "import numpy as np\n",
    "import matplotlib as mpl\n",
    "import matplotlib.pyplot as plt\n",
    "from sklearn.metrics import accuracy_score\n",
    "from sklearn.model_selection import train_test_split\n",
    "\n",
    "# TensorFlow / Keras functions\n",
    "import tensorflow as tf\n",
    "from tensorflow import keras\n",
    "from tensorflow.keras import Sequential\n",
    "from tensorflow.keras.layers import Dense, Conv2D, Flatten, MaxPooling2D, Dropout\n",
    "from tensorflow.keras.datasets import mnist\n",
    "from tensorflow.keras.callbacks import EarlyStopping\n",
    "from tensorflow.keras.utils import to_categorical\n",
    "from tensorflow.keras.datasets import cifar10\n",
    "(X_train, y_train), (X_test, y_test) = cifar10.load_data()"
   ]
  },
  {
   "cell_type": "code",
   "execution_count": 65,
   "metadata": {},
   "outputs": [
    {
     "data": {
      "text/plain": [
       "<matplotlib.image.AxesImage at 0x19c3f1faf10>"
      ]
     },
     "execution_count": 65,
     "metadata": {},
     "output_type": "execute_result"
    },
    {
     "data": {
      "image/png": "[encoded data removed]",
      "text/plain": [
       "<Figure size 432x288 with 1 Axes>"
      ]
     },
     "metadata": {
      "needs_background": "light"
     },
     "output_type": "display_data"
    }
   ],
   "source": [
    "plt.imshow(X_train[1], plt.cm.binary)"
   ]
  },
  {
   "cell_type": "code",
   "execution_count": 59,
   "metadata": {},
   "outputs": [
    {
     "data": {
      "text/plain": [
       "<matplotlib.image.AxesImage at 0x19c521c9880>"
      ]
     },
     "execution_count": 59,
     "metadata": {},
     "output_type": "execute_result"
    },
    {
     "data": {
      "image/png": "[encoded data removed]",
      "text/plain": [
       "<Figure size 432x288 with 1 Axes>"
      ]
     },
     "metadata": {
      "needs_background": "light"
     },
     "output_type": "display_data"
    }
   ],
   "source": [
    "plt.imshow(X_train[4], plt.cm.binary)"
   ]
  },
  {
   "cell_type": "code",
   "execution_count": 60,
   "metadata": {},
   "outputs": [
    {
     "name": "stdout",
     "output_type": "stream",
     "text": [
      "[9]\n",
      "[1]\n"
     ]
    }
   ],
   "source": [
    "print(y_train[1])\n",
    "print(y_train[4])"
   ]
  },
  {
   "cell_type": "code",
   "execution_count": 66,
   "metadata": {},
   "outputs": [
    {
     "name": "stdout",
     "output_type": "stream",
     "text": [
      "(5000, 32, 32, 3) (5000, 32, 32, 3) (2000, 32, 32, 3) (5000, 1) (5000, 1) (2000, 1)\n"
     ]
    }
   ],
   "source": [
    "car_truck_train = np.where((y_train == 1) | (y_train == 9))[0]\n",
    "car_truck_test = np.where((y_test == 1) | (y_test == 9))[0]\n",
    "\n",
    "Xtrain = X_train[car_truck_train]\n",
    "ytrain = y_train[car_truck_train]\n",
    "\n",
    "Xtest = X_test[car_truck_test]\n",
    "ytest = y_test[car_truck_test]\n",
    "\n",
    "y_train = to_categorical(y_train)\n",
    "y_test = to_categorical(y_test)\n",
    "\n",
    "Xtrain, Xvalid, ytrain, yvalid = train_test_split(Xtrain, ytrain, test_size=.5, stratify=ytrain, random_state=1)\n",
    "\n",
    "print(Xtrain.shape, Xvalid.shape, Xtest.shape, ytrain.shape, yvalid.shape, ytest.shape)"
   ]
  },
  {
   "cell_type": "code",
   "execution_count": 67,
   "metadata": {},
   "outputs": [],
   "source": [
    "model1 = Sequential()\n",
    "model1.add(Conv2D(16, kernel_size=(3,3), activation='relu',\n",
    "                 padding='same', input_shape=(32,32,3)))\n",
    "model1.add(MaxPooling2D(pool_size=(4, 4), strides=4))\n",
    "model1.add(Flatten())\n",
    "model1.add(Dense(10, activation='softmax'))"
   ]
  },
  {
   "cell_type": "code",
   "execution_count": 68,
   "metadata": {},
   "outputs": [
    {
     "name": "stdout",
     "output_type": "stream",
     "text": [
      "Epoch 1/10\n",
      "  1/250 [..............................] - ETA: 42s - loss: 207.0495 - accuracy: 0.0000e+00"
     ]
    },
    {
     "name": "stderr",
     "output_type": "stream",
     "text": [
      "C:\\Users\\gragg\\AppData\\Local\\Packages\\PythonSoftwareFoundation.Python.3.9_qbz5n2kfra8p0\\LocalCache\\local-packages\\Python39\\site-packages\\keras\\backend.py:4906: UserWarning: \"`sparse_categorical_crossentropy` received `from_logits=True`, but the `output` argument was produced by a sigmoid or softmax activation and thus does not represent logits. Was this intended?\"\n",
      "  warnings.warn(\n"
     ]
    },
    {
     "name": "stdout",
     "output_type": "stream",
     "text": [
      "250/250 [==============================] - 1s 3ms/step - loss: 10.4823 - accuracy: 0.5930 - val_loss: 4.1869 - val_accuracy: 0.6300\n",
      "Epoch 2/10\n",
      "250/250 [==============================] - 1s 3ms/step - loss: 3.3365 - accuracy: 0.6524 - val_loss: 2.5241 - val_accuracy: 0.6498\n",
      "Epoch 3/10\n",
      "250/250 [==============================] - 1s 3ms/step - loss: 1.8491 - accuracy: 0.6874 - val_loss: 1.4924 - val_accuracy: 0.6670\n",
      "Epoch 4/10\n",
      "250/250 [==============================] - 1s 3ms/step - loss: 1.0661 - accuracy: 0.6910 - val_loss: 1.0787 - val_accuracy: 0.6572\n",
      "Epoch 5/10\n",
      "250/250 [==============================] - 1s 3ms/step - loss: 0.7804 - accuracy: 0.6880 - val_loss: 0.9343 - val_accuracy: 0.6356\n",
      "Epoch 6/10\n",
      "250/250 [==============================] - 1s 3ms/step - loss: 0.6700 - accuracy: 0.6968 - val_loss: 0.8353 - val_accuracy: 0.6570\n",
      "Epoch 7/10\n",
      "250/250 [==============================] - 1s 3ms/step - loss: 0.6184 - accuracy: 0.7068 - val_loss: 0.7414 - val_accuracy: 0.6798\n",
      "Epoch 8/10\n",
      "250/250 [==============================] - 1s 3ms/step - loss: 0.5812 - accuracy: 0.7154 - val_loss: 0.7260 - val_accuracy: 0.6862\n",
      "Epoch 9/10\n",
      "250/250 [==============================] - 1s 3ms/step - loss: 0.5437 - accuracy: 0.7384 - val_loss: 0.7522 - val_accuracy: 0.6832\n",
      "Epoch 10/10\n",
      "250/250 [==============================] - 1s 3ms/step - loss: 0.5295 - accuracy: 0.7464 - val_loss: 0.7385 - val_accuracy: 0.6918\n",
      "63/63 [==============================] - 0s 1ms/step - loss: 0.7373 - accuracy: 0.6825\n"
     ]
    },
    {
     "data": {
      "text/plain": [
       "[0.7373145818710327, 0.6825000047683716]"
      ]
     },
     "execution_count": 68,
     "metadata": {},
     "output_type": "execute_result"
    }
   ],
   "source": [
    "model1.compile(optimizer='adam',\n",
    "               loss=tf.keras.losses.SparseCategoricalCrossentropy(from_logits=True),\n",
    "               metrics=['accuracy'])\n",
    "model1.fit(Xtrain, ytrain, epochs=10, batch_size=20,\n",
    "           validation_data=(Xvalid, yvalid))\n",
    "model1.evaluate(Xtest, ytest)"
   ]
  },
  {
   "cell_type": "code",
   "execution_count": 69,
   "metadata": {},
   "outputs": [
    {
     "name": "stdout",
     "output_type": "stream",
     "text": [
      "Epoch 1/10\n",
      "250/250 [==============================] - 3s 11ms/step - loss: 7.8986 - accuracy: 0.6602 - val_loss: 1.2276 - val_accuracy: 0.6858\n",
      "Epoch 2/10\n",
      "250/250 [==============================] - 3s 11ms/step - loss: 0.8538 - accuracy: 0.7416 - val_loss: 0.7676 - val_accuracy: 0.7384\n",
      "Epoch 3/10\n",
      "250/250 [==============================] - 3s 10ms/step - loss: 0.6710 - accuracy: 0.7728 - val_loss: 0.7240 - val_accuracy: 0.7506\n",
      "Epoch 4/10\n",
      "250/250 [==============================] - 3s 11ms/step - loss: 0.5941 - accuracy: 0.7972 - val_loss: 0.7473 - val_accuracy: 0.7542\n",
      "Epoch 5/10\n",
      "250/250 [==============================] - 3s 11ms/step - loss: 0.5533 - accuracy: 0.8156 - val_loss: 0.7194 - val_accuracy: 0.7670\n",
      "Epoch 6/10\n",
      "250/250 [==============================] - 3s 10ms/step - loss: 0.5247 - accuracy: 0.8256 - val_loss: 0.6989 - val_accuracy: 0.7760\n",
      "Epoch 7/10\n",
      "250/250 [==============================] - 3s 10ms/step - loss: 0.4989 - accuracy: 0.8348 - val_loss: 0.6705 - val_accuracy: 0.7832\n",
      "Epoch 8/10\n",
      "250/250 [==============================] - 3s 10ms/step - loss: 0.4888 - accuracy: 0.8410 - val_loss: 0.7673 - val_accuracy: 0.7694\n",
      "Epoch 9/10\n",
      "250/250 [==============================] - 3s 11ms/step - loss: 0.4929 - accuracy: 0.8418 - val_loss: 0.7277 - val_accuracy: 0.7650\n",
      "Epoch 10/10\n",
      "250/250 [==============================] - 3s 11ms/step - loss: 0.4745 - accuracy: 0.8454 - val_loss: 0.7911 - val_accuracy: 0.7736\n",
      "63/63 [==============================] - 0s 4ms/step - loss: 0.8129 - accuracy: 0.7710\n"
     ]
    },
    {
     "data": {
      "text/plain": [
       "[0.8129310011863708, 0.7710000276565552]"
      ]
     },
     "execution_count": 69,
     "metadata": {},
     "output_type": "execute_result"
    }
   ],
   "source": [
    "model11 = Sequential()\n",
    "model11.add(Conv2D(64, kernel_size=(3,3), activation='relu', strides=(1,1), kernel_regularizer=keras.regularizers.l1_l2(.001), \n",
    "                  padding='same', input_shape=(32,32,3)))\n",
    "model11.add(MaxPooling2D(pool_size=(6, 6), strides=2))\n",
    "model11.add(Flatten())\n",
    "model11.add(Dense(40, activation='softmax'))\n",
    "\n",
    "model11.compile(optimizer='adam',\n",
    "               loss=tf.keras.losses.SparseCategoricalCrossentropy(from_logits=True),\n",
    "               metrics=['accuracy'])\n",
    "model11.fit(Xtrain, ytrain, epochs=10, batch_size=20,\n",
    "           validation_data=(Xvalid, yvalid))\n",
    "model11.evaluate(Xtest, ytest)"
   ]
  },
  {
   "cell_type": "code",
   "execution_count": 70,
   "metadata": {},
   "outputs": [
    {
     "name": "stdout",
     "output_type": "stream",
     "text": [
      "Epoch 1/100\n",
      "100/100 [==============================] - 4s 37ms/step - loss: 1.8717 - accuracy: 0.5572 - val_loss: 0.7192 - val_accuracy: 0.6918\n",
      "Epoch 2/100\n",
      "100/100 [==============================] - 4s 35ms/step - loss: 0.7582 - accuracy: 0.6778 - val_loss: 0.6409 - val_accuracy: 0.7572\n",
      "Epoch 3/100\n",
      "100/100 [==============================] - 3s 35ms/step - loss: 0.6709 - accuracy: 0.7452 - val_loss: 0.6454 - val_accuracy: 0.7550\n",
      "Epoch 4/100\n",
      "100/100 [==============================] - 4s 35ms/step - loss: 0.6082 - accuracy: 0.7804 - val_loss: 0.5746 - val_accuracy: 0.8030\n",
      "Epoch 5/100\n",
      "100/100 [==============================] - 4s 35ms/step - loss: 0.5717 - accuracy: 0.8082 - val_loss: 0.5256 - val_accuracy: 0.8178\n",
      "Epoch 6/100\n",
      "100/100 [==============================] - 4s 35ms/step - loss: 0.5351 - accuracy: 0.8294 - val_loss: 0.4980 - val_accuracy: 0.8368\n",
      "Epoch 7/100\n",
      "100/100 [==============================] - 3s 35ms/step - loss: 0.5059 - accuracy: 0.8398 - val_loss: 0.4559 - val_accuracy: 0.8540\n",
      "Epoch 8/100\n",
      "100/100 [==============================] - 4s 35ms/step - loss: 0.4819 - accuracy: 0.8474 - val_loss: 0.4946 - val_accuracy: 0.8342\n",
      "Epoch 9/100\n",
      "100/100 [==============================] - 3s 35ms/step - loss: 0.4362 - accuracy: 0.8668 - val_loss: 0.4369 - val_accuracy: 0.8608\n",
      "Epoch 10/100\n",
      "100/100 [==============================] - 3s 35ms/step - loss: 0.4187 - accuracy: 0.8748 - val_loss: 0.4391 - val_accuracy: 0.8594\n",
      "Epoch 11/100\n",
      "100/100 [==============================] - 4s 35ms/step - loss: 0.4028 - accuracy: 0.8772 - val_loss: 0.4540 - val_accuracy: 0.8606\n",
      "Epoch 12/100\n",
      "100/100 [==============================] - 4s 37ms/step - loss: 0.3864 - accuracy: 0.8872 - val_loss: 0.4204 - val_accuracy: 0.8658\n",
      "Epoch 13/100\n",
      "100/100 [==============================] - 3s 35ms/step - loss: 0.3613 - accuracy: 0.8966 - val_loss: 0.4167 - val_accuracy: 0.8724\n",
      "Epoch 14/100\n",
      "100/100 [==============================] - 4s 35ms/step - loss: 0.3564 - accuracy: 0.8926 - val_loss: 0.4310 - val_accuracy: 0.8572\n",
      "Epoch 15/100\n",
      "100/100 [==============================] - 3s 35ms/step - loss: 0.3294 - accuracy: 0.9086 - val_loss: 0.4495 - val_accuracy: 0.8688\n",
      "Epoch 16/100\n",
      "100/100 [==============================] - 3s 35ms/step - loss: 0.2971 - accuracy: 0.9218 - val_loss: 0.4076 - val_accuracy: 0.8766\n",
      "Epoch 17/100\n",
      "100/100 [==============================] - 4s 36ms/step - loss: 0.2992 - accuracy: 0.9224 - val_loss: 0.4607 - val_accuracy: 0.8610\n",
      "Epoch 18/100\n",
      "100/100 [==============================] - 4s 35ms/step - loss: 0.2800 - accuracy: 0.9258 - val_loss: 0.4291 - val_accuracy: 0.8820\n",
      "Epoch 19/100\n",
      "100/100 [==============================] - 3s 35ms/step - loss: 0.2708 - accuracy: 0.9294 - val_loss: 0.4455 - val_accuracy: 0.8690\n",
      "Epoch 20/100\n",
      "100/100 [==============================] - 4s 35ms/step - loss: 0.2538 - accuracy: 0.9364 - val_loss: 0.4448 - val_accuracy: 0.8818\n",
      "Epoch 21/100\n",
      "100/100 [==============================] - 4s 35ms/step - loss: 0.2241 - accuracy: 0.9482 - val_loss: 0.5323 - val_accuracy: 0.8772\n",
      "Epoch 22/100\n",
      "100/100 [==============================] - 4s 36ms/step - loss: 0.2231 - accuracy: 0.9438 - val_loss: 0.4713 - val_accuracy: 0.8786\n",
      "Epoch 23/100\n",
      "100/100 [==============================] - 4s 36ms/step - loss: 0.2136 - accuracy: 0.9472 - val_loss: 0.5043 - val_accuracy: 0.8854\n",
      "Epoch 24/100\n",
      "100/100 [==============================] - 4s 36ms/step - loss: 0.1860 - accuracy: 0.9588 - val_loss: 0.4837 - val_accuracy: 0.8784\n",
      "Epoch 25/100\n",
      "100/100 [==============================] - 4s 35ms/step - loss: 0.1900 - accuracy: 0.9564 - val_loss: 0.5651 - val_accuracy: 0.8634\n",
      "Epoch 26/100\n",
      "100/100 [==============================] - 4s 35ms/step - loss: 0.1893 - accuracy: 0.9584 - val_loss: 0.6260 - val_accuracy: 0.8614\n",
      "63/63 [==============================] - 0s 5ms/step - loss: 0.6747 - accuracy: 0.8495\n",
      "Epoch 1/100\n",
      "84/84 [==============================] - 4s 43ms/step - loss: 0.1914 - accuracy: 0.9548 - val_loss: 0.5955 - val_accuracy: 0.8608\n",
      "Epoch 2/100\n",
      "84/84 [==============================] - 3s 40ms/step - loss: 0.1635 - accuracy: 0.9682 - val_loss: 0.5480 - val_accuracy: 0.8754\n",
      "Epoch 3/100\n",
      "84/84 [==============================] - 3s 41ms/step - loss: 0.1463 - accuracy: 0.9724 - val_loss: 0.6634 - val_accuracy: 0.8878\n",
      "Epoch 4/100\n",
      "84/84 [==============================] - 3s 41ms/step - loss: 0.2120 - accuracy: 0.9502 - val_loss: 0.6976 - val_accuracy: 0.8520\n",
      "Epoch 5/100\n",
      "84/84 [==============================] - 3s 41ms/step - loss: 0.1665 - accuracy: 0.9662 - val_loss: 0.5387 - val_accuracy: 0.8912\n",
      "Epoch 6/100\n",
      "84/84 [==============================] - 3s 41ms/step - loss: 0.1571 - accuracy: 0.9686 - val_loss: 0.6109 - val_accuracy: 0.8798\n",
      "Epoch 7/100\n",
      "84/84 [==============================] - 3s 41ms/step - loss: 0.1425 - accuracy: 0.9744 - val_loss: 0.5891 - val_accuracy: 0.8840\n",
      "Epoch 8/100\n",
      "84/84 [==============================] - 3s 40ms/step - loss: 0.1234 - accuracy: 0.9822 - val_loss: 0.6317 - val_accuracy: 0.8838\n",
      "Epoch 9/100\n",
      "84/84 [==============================] - 3s 41ms/step - loss: 0.1516 - accuracy: 0.9714 - val_loss: 0.6034 - val_accuracy: 0.8706\n",
      "Epoch 10/100\n",
      "84/84 [==============================] - 3s 41ms/step - loss: 0.1427 - accuracy: 0.9716 - val_loss: 0.6049 - val_accuracy: 0.8908\n",
      "Epoch 11/100\n",
      "84/84 [==============================] - 3s 41ms/step - loss: 0.1081 - accuracy: 0.9842 - val_loss: 0.7567 - val_accuracy: 0.8738\n",
      "Epoch 12/100\n",
      "84/84 [==============================] - 3s 41ms/step - loss: 0.1238 - accuracy: 0.9808 - val_loss: 0.6912 - val_accuracy: 0.8794\n",
      "Epoch 13/100\n",
      "84/84 [==============================] - 3s 41ms/step - loss: 0.1174 - accuracy: 0.9802 - val_loss: 0.7305 - val_accuracy: 0.8838\n",
      "Epoch 14/100\n",
      "84/84 [==============================] - 4s 42ms/step - loss: 0.1401 - accuracy: 0.9712 - val_loss: 0.5888 - val_accuracy: 0.8832\n",
      "Epoch 15/100\n",
      "84/84 [==============================] - 3s 41ms/step - loss: 0.1081 - accuracy: 0.9860 - val_loss: 0.8253 - val_accuracy: 0.8882\n",
      "63/63 [==============================] - 0s 4ms/step - loss: 0.8921 - accuracy: 0.8760\n",
      "Epoch 1/100\n",
      "72/72 [==============================] - 3s 48ms/step - loss: 0.1113 - accuracy: 0.9846 - val_loss: 0.6938 - val_accuracy: 0.8812\n",
      "Epoch 2/100\n",
      "72/72 [==============================] - 3s 48ms/step - loss: 0.0989 - accuracy: 0.9898 - val_loss: 0.8044 - val_accuracy: 0.8888\n",
      "Epoch 3/100\n",
      "72/72 [==============================] - 3s 47ms/step - loss: 0.1086 - accuracy: 0.9828 - val_loss: 0.6636 - val_accuracy: 0.8844\n",
      "Epoch 4/100\n",
      "72/72 [==============================] - 3s 48ms/step - loss: 0.0978 - accuracy: 0.9886 - val_loss: 0.8844 - val_accuracy: 0.8670\n",
      "Epoch 5/100\n",
      "72/72 [==============================] - 4s 51ms/step - loss: 0.1139 - accuracy: 0.9832 - val_loss: 0.6748 - val_accuracy: 0.8838\n",
      "Epoch 6/100\n",
      "72/72 [==============================] - 3s 48ms/step - loss: 0.0964 - accuracy: 0.9884 - val_loss: 0.7556 - val_accuracy: 0.8808\n",
      "Epoch 7/100\n",
      "72/72 [==============================] - 3s 48ms/step - loss: 0.1221 - accuracy: 0.9806 - val_loss: 0.7063 - val_accuracy: 0.8836\n",
      "Epoch 8/100\n",
      "72/72 [==============================] - 3s 47ms/step - loss: 0.1218 - accuracy: 0.9810 - val_loss: 0.7154 - val_accuracy: 0.8808\n",
      "Epoch 9/100\n",
      "72/72 [==============================] - 4s 50ms/step - loss: 0.1085 - accuracy: 0.9858 - val_loss: 0.7208 - val_accuracy: 0.8812\n",
      "Epoch 10/100\n",
      "72/72 [==============================] - 3s 48ms/step - loss: 0.0972 - accuracy: 0.9878 - val_loss: 0.9273 - val_accuracy: 0.8836\n",
      "Epoch 11/100\n",
      "72/72 [==============================] - 4s 49ms/step - loss: 0.1142 - accuracy: 0.9840 - val_loss: 0.6728 - val_accuracy: 0.8816\n",
      "Epoch 12/100\n",
      "72/72 [==============================] - 3s 48ms/step - loss: 0.1129 - accuracy: 0.9826 - val_loss: 0.6863 - val_accuracy: 0.8864\n",
      "Epoch 13/100\n",
      "72/72 [==============================] - 3s 48ms/step - loss: 0.1087 - accuracy: 0.9862 - val_loss: 0.6858 - val_accuracy: 0.8844\n",
      "63/63 [==============================] - 0s 4ms/step - loss: 0.7881 - accuracy: 0.8745\n",
      "Epoch 1/100\n",
      "63/63 [==============================] - 3s 55ms/step - loss: 0.0784 - accuracy: 0.9946 - val_loss: 0.8046 - val_accuracy: 0.8854\n",
      "Epoch 2/100\n",
      "63/63 [==============================] - 3s 55ms/step - loss: 0.0723 - accuracy: 0.9956 - val_loss: 0.8310 - val_accuracy: 0.8914\n",
      "Epoch 3/100\n",
      "63/63 [==============================] - 3s 55ms/step - loss: 0.0649 - accuracy: 0.9974 - val_loss: 0.8653 - val_accuracy: 0.8894\n",
      "Epoch 4/100\n",
      "63/63 [==============================] - 3s 54ms/step - loss: 0.0653 - accuracy: 0.9964 - val_loss: 0.9901 - val_accuracy: 0.8740\n",
      "Epoch 5/100\n",
      "63/63 [==============================] - 3s 53ms/step - loss: 0.0827 - accuracy: 0.9902 - val_loss: 0.8561 - val_accuracy: 0.8802\n",
      "Epoch 6/100\n",
      "63/63 [==============================] - 3s 52ms/step - loss: 0.0830 - accuracy: 0.9898 - val_loss: 0.9878 - val_accuracy: 0.8612\n",
      "Epoch 7/100\n",
      "63/63 [==============================] - 3s 53ms/step - loss: 0.0878 - accuracy: 0.9884 - val_loss: 0.7982 - val_accuracy: 0.8802\n",
      "Epoch 8/100\n",
      "63/63 [==============================] - 3s 53ms/step - loss: 0.0630 - accuracy: 0.9966 - val_loss: 0.8431 - val_accuracy: 0.8938\n",
      "Epoch 9/100\n",
      "63/63 [==============================] - 3s 53ms/step - loss: 0.0678 - accuracy: 0.9946 - val_loss: 0.9793 - val_accuracy: 0.8658\n",
      "Epoch 10/100\n",
      "63/63 [==============================] - 3s 55ms/step - loss: 0.0824 - accuracy: 0.9906 - val_loss: 0.8358 - val_accuracy: 0.8850\n",
      "Epoch 11/100\n",
      "63/63 [==============================] - 3s 53ms/step - loss: 0.0854 - accuracy: 0.9878 - val_loss: 0.8692 - val_accuracy: 0.8808\n",
      "Epoch 12/100\n",
      "63/63 [==============================] - 3s 53ms/step - loss: 0.0873 - accuracy: 0.9874 - val_loss: 0.8134 - val_accuracy: 0.8684\n",
      "Epoch 13/100\n",
      "63/63 [==============================] - 3s 53ms/step - loss: 0.0904 - accuracy: 0.9876 - val_loss: 0.9392 - val_accuracy: 0.8808\n",
      "Epoch 14/100\n",
      "63/63 [==============================] - 3s 53ms/step - loss: 0.0805 - accuracy: 0.9916 - val_loss: 0.7488 - val_accuracy: 0.8872\n",
      "Epoch 15/100\n",
      "63/63 [==============================] - 3s 52ms/step - loss: 0.0565 - accuracy: 0.9986 - val_loss: 0.9598 - val_accuracy: 0.8860\n",
      "Epoch 16/100\n",
      "63/63 [==============================] - 3s 53ms/step - loss: 0.0943 - accuracy: 0.9836 - val_loss: 0.8764 - val_accuracy: 0.8640\n",
      "Epoch 17/100\n",
      "63/63 [==============================] - 3s 53ms/step - loss: 0.0815 - accuracy: 0.9894 - val_loss: 0.8917 - val_accuracy: 0.8818\n",
      "Epoch 18/100\n",
      "63/63 [==============================] - 3s 54ms/step - loss: 0.0750 - accuracy: 0.9910 - val_loss: 0.9019 - val_accuracy: 0.8758\n",
      "Epoch 19/100\n",
      "63/63 [==============================] - 3s 53ms/step - loss: 0.1040 - accuracy: 0.9796 - val_loss: 0.7766 - val_accuracy: 0.8832\n",
      "Epoch 20/100\n",
      "63/63 [==============================] - 3s 53ms/step - loss: 0.0758 - accuracy: 0.9900 - val_loss: 0.9224 - val_accuracy: 0.8782\n",
      "Epoch 21/100\n",
      "63/63 [==============================] - 3s 53ms/step - loss: 0.0727 - accuracy: 0.9914 - val_loss: 0.9172 - val_accuracy: 0.8762\n",
      "Epoch 22/100\n",
      "63/63 [==============================] - 3s 53ms/step - loss: 0.0736 - accuracy: 0.9926 - val_loss: 0.8314 - val_accuracy: 0.8806\n",
      "Epoch 23/100\n",
      "63/63 [==============================] - 3s 53ms/step - loss: 0.0613 - accuracy: 0.9942 - val_loss: 0.9656 - val_accuracy: 0.8722\n",
      "Epoch 24/100\n",
      "63/63 [==============================] - 3s 53ms/step - loss: 0.0677 - accuracy: 0.9918 - val_loss: 0.9410 - val_accuracy: 0.8812\n",
      "63/63 [==============================] - 0s 4ms/step - loss: 1.1111 - accuracy: 0.8665\n",
      "Epoch 1/100\n",
      "56/56 [==============================] - 3s 62ms/step - loss: 0.0565 - accuracy: 0.9966 - val_loss: 1.0267 - val_accuracy: 0.8806\n",
      "Epoch 2/100\n",
      "56/56 [==============================] - 3s 62ms/step - loss: 0.0522 - accuracy: 0.9974 - val_loss: 1.1506 - val_accuracy: 0.8684\n",
      "Epoch 3/100\n",
      "56/56 [==============================] - 3s 59ms/step - loss: 0.0676 - accuracy: 0.9914 - val_loss: 1.0697 - val_accuracy: 0.8770\n",
      "Epoch 4/100\n",
      "56/56 [==============================] - 3s 59ms/step - loss: 0.0897 - accuracy: 0.9842 - val_loss: 0.7672 - val_accuracy: 0.8806\n",
      "Epoch 5/100\n",
      "56/56 [==============================] - 3s 60ms/step - loss: 0.0663 - accuracy: 0.9924 - val_loss: 0.8363 - val_accuracy: 0.8874\n",
      "Epoch 6/100\n",
      "56/56 [==============================] - 3s 60ms/step - loss: 0.0523 - accuracy: 0.9962 - val_loss: 0.9483 - val_accuracy: 0.8856\n",
      "Epoch 7/100\n",
      "56/56 [==============================] - 3s 60ms/step - loss: 0.0663 - accuracy: 0.9912 - val_loss: 1.0836 - val_accuracy: 0.8742\n",
      "Epoch 8/100\n",
      "56/56 [==============================] - 3s 59ms/step - loss: 0.0810 - accuracy: 0.9882 - val_loss: 0.8460 - val_accuracy: 0.8734\n",
      "Epoch 9/100\n",
      "56/56 [==============================] - 3s 60ms/step - loss: 0.0557 - accuracy: 0.9960 - val_loss: 0.8913 - val_accuracy: 0.8900\n",
      "Epoch 10/100\n",
      "56/56 [==============================] - 3s 60ms/step - loss: 0.0546 - accuracy: 0.9960 - val_loss: 1.0470 - val_accuracy: 0.8836\n",
      "Epoch 11/100\n",
      "56/56 [==============================] - 3s 60ms/step - loss: 0.0676 - accuracy: 0.9910 - val_loss: 0.9405 - val_accuracy: 0.8602\n",
      "Epoch 12/100\n",
      "56/56 [==============================] - 3s 60ms/step - loss: 0.0889 - accuracy: 0.9846 - val_loss: 0.9169 - val_accuracy: 0.8746\n",
      "Epoch 13/100\n",
      "56/56 [==============================] - 3s 60ms/step - loss: 0.0571 - accuracy: 0.9948 - val_loss: 0.8971 - val_accuracy: 0.8854\n",
      "Epoch 14/100\n",
      "56/56 [==============================] - 3s 60ms/step - loss: 0.0662 - accuracy: 0.9914 - val_loss: 0.9780 - val_accuracy: 0.8738\n",
      "63/63 [==============================] - 0s 4ms/step - loss: 1.1794 - accuracy: 0.8675\n",
      "Epoch 1/100\n",
      "50/50 [==============================] - 3s 67ms/step - loss: 0.0557 - accuracy: 0.9952 - val_loss: 0.9668 - val_accuracy: 0.8768\n",
      "Epoch 2/100\n",
      "50/50 [==============================] - 3s 66ms/step - loss: 0.0574 - accuracy: 0.9946 - val_loss: 0.9352 - val_accuracy: 0.8838\n",
      "Epoch 3/100\n",
      "50/50 [==============================] - 3s 66ms/step - loss: 0.0476 - accuracy: 0.9970 - val_loss: 1.0550 - val_accuracy: 0.8758\n",
      "Epoch 4/100\n",
      "50/50 [==============================] - 3s 66ms/step - loss: 0.0630 - accuracy: 0.9932 - val_loss: 0.8641 - val_accuracy: 0.8784\n",
      "Epoch 5/100\n",
      "50/50 [==============================] - 3s 67ms/step - loss: 0.0627 - accuracy: 0.9930 - val_loss: 0.8697 - val_accuracy: 0.8816\n",
      "Epoch 6/100\n",
      "50/50 [==============================] - 3s 66ms/step - loss: 0.0550 - accuracy: 0.9940 - val_loss: 1.0822 - val_accuracy: 0.8704\n",
      "Epoch 7/100\n",
      "50/50 [==============================] - 3s 66ms/step - loss: 0.0514 - accuracy: 0.9964 - val_loss: 1.0455 - val_accuracy: 0.8812\n",
      "Epoch 8/100\n",
      "50/50 [==============================] - 3s 66ms/step - loss: 0.0711 - accuracy: 0.9898 - val_loss: 0.8821 - val_accuracy: 0.8756\n",
      "Epoch 9/100\n",
      "50/50 [==============================] - 3s 66ms/step - loss: 0.0664 - accuracy: 0.9916 - val_loss: 0.8649 - val_accuracy: 0.8800\n",
      "Epoch 10/100\n",
      "50/50 [==============================] - 3s 66ms/step - loss: 0.0549 - accuracy: 0.9938 - val_loss: 0.9307 - val_accuracy: 0.8764\n",
      "Epoch 11/100\n",
      "50/50 [==============================] - 3s 66ms/step - loss: 0.0765 - accuracy: 0.9892 - val_loss: 0.8398 - val_accuracy: 0.8834\n",
      "Epoch 12/100\n",
      "50/50 [==============================] - 3s 66ms/step - loss: 0.0505 - accuracy: 0.9960 - val_loss: 0.9136 - val_accuracy: 0.8866\n",
      "Epoch 13/100\n",
      "50/50 [==============================] - 3s 67ms/step - loss: 0.0481 - accuracy: 0.9972 - val_loss: 0.9946 - val_accuracy: 0.8866\n",
      "Epoch 14/100\n",
      "50/50 [==============================] - 3s 66ms/step - loss: 0.0496 - accuracy: 0.9956 - val_loss: 1.1088 - val_accuracy: 0.8632\n",
      "Epoch 15/100\n",
      "50/50 [==============================] - 3s 67ms/step - loss: 0.0812 - accuracy: 0.9874 - val_loss: 0.8051 - val_accuracy: 0.8806\n",
      "Epoch 16/100\n",
      "50/50 [==============================] - 3s 66ms/step - loss: 0.0552 - accuracy: 0.9946 - val_loss: 0.8798 - val_accuracy: 0.8792\n",
      "Epoch 17/100\n",
      "50/50 [==============================] - 3s 66ms/step - loss: 0.0484 - accuracy: 0.9956 - val_loss: 0.9452 - val_accuracy: 0.8856\n",
      "Epoch 18/100\n",
      "50/50 [==============================] - 3s 66ms/step - loss: 0.0459 - accuracy: 0.9970 - val_loss: 1.0224 - val_accuracy: 0.8806\n",
      "Epoch 19/100\n",
      "50/50 [==============================] - 3s 67ms/step - loss: 0.0400 - accuracy: 0.9986 - val_loss: 0.9290 - val_accuracy: 0.8890\n",
      "Epoch 20/100\n",
      "50/50 [==============================] - 3s 66ms/step - loss: 0.0375 - accuracy: 0.9990 - val_loss: 1.1034 - val_accuracy: 0.8854\n",
      "Epoch 21/100\n",
      "50/50 [==============================] - 3s 66ms/step - loss: 0.0424 - accuracy: 0.9964 - val_loss: 1.1869 - val_accuracy: 0.8854\n",
      "Epoch 22/100\n",
      "50/50 [==============================] - 3s 67ms/step - loss: 0.0503 - accuracy: 0.9938 - val_loss: 1.0140 - val_accuracy: 0.8760\n",
      "Epoch 23/100\n",
      "50/50 [==============================] - 3s 67ms/step - loss: 0.0632 - accuracy: 0.9882 - val_loss: 1.0670 - val_accuracy: 0.8798\n",
      "Epoch 24/100\n",
      "50/50 [==============================] - 3s 69ms/step - loss: 0.0601 - accuracy: 0.9920 - val_loss: 0.8504 - val_accuracy: 0.8852\n",
      "Epoch 25/100\n",
      "50/50 [==============================] - 3s 67ms/step - loss: 0.0512 - accuracy: 0.9944 - val_loss: 0.9115 - val_accuracy: 0.8878\n",
      "63/63 [==============================] - 0s 4ms/step - loss: 1.0654 - accuracy: 0.8820\n",
      "Epoch 1/100\n",
      "46/46 [==============================] - 3s 71ms/step - loss: 0.0408 - accuracy: 0.9976 - val_loss: 0.9865 - val_accuracy: 0.8876\n",
      "Epoch 2/100\n",
      "46/46 [==============================] - 3s 70ms/step - loss: 0.0470 - accuracy: 0.9956 - val_loss: 0.9791 - val_accuracy: 0.8836\n",
      "Epoch 3/100\n",
      "46/46 [==============================] - 3s 71ms/step - loss: 0.0557 - accuracy: 0.9934 - val_loss: 0.8592 - val_accuracy: 0.8848\n",
      "Epoch 4/100\n",
      "46/46 [==============================] - 3s 70ms/step - loss: 0.0432 - accuracy: 0.9974 - val_loss: 1.0378 - val_accuracy: 0.8728\n",
      "Epoch 5/100\n",
      "46/46 [==============================] - 3s 69ms/step - loss: 0.0375 - accuracy: 0.9988 - val_loss: 1.0964 - val_accuracy: 0.8782\n",
      "Epoch 6/100\n",
      "46/46 [==============================] - 3s 70ms/step - loss: 0.0436 - accuracy: 0.9962 - val_loss: 1.1028 - val_accuracy: 0.8796\n",
      "Epoch 7/100\n",
      "46/46 [==============================] - 3s 70ms/step - loss: 0.0429 - accuracy: 0.9972 - val_loss: 1.1523 - val_accuracy: 0.8784\n",
      "Epoch 8/100\n",
      "46/46 [==============================] - 3s 69ms/step - loss: 0.0419 - accuracy: 0.9966 - val_loss: 1.2067 - val_accuracy: 0.8856\n",
      "Epoch 9/100\n",
      "46/46 [==============================] - 3s 70ms/step - loss: 0.0674 - accuracy: 0.9900 - val_loss: 1.1466 - val_accuracy: 0.8668\n",
      "Epoch 10/100\n",
      "46/46 [==============================] - 3s 70ms/step - loss: 0.0782 - accuracy: 0.9842 - val_loss: 0.8674 - val_accuracy: 0.8742\n",
      "Epoch 11/100\n",
      "46/46 [==============================] - 3s 70ms/step - loss: 0.0718 - accuracy: 0.9882 - val_loss: 0.9180 - val_accuracy: 0.8614\n",
      "Epoch 12/100\n",
      "46/46 [==============================] - 3s 72ms/step - loss: 0.0599 - accuracy: 0.9934 - val_loss: 0.8804 - val_accuracy: 0.8802\n",
      "Epoch 13/100\n",
      "46/46 [==============================] - 3s 72ms/step - loss: 0.0385 - accuracy: 0.9988 - val_loss: 1.1043 - val_accuracy: 0.8758\n",
      "63/63 [==============================] - 0s 5ms/step - loss: 1.2639 - accuracy: 0.8745\n",
      "Epoch 1/100\n",
      "42/42 [==============================] - 3s 79ms/step - loss: 0.0433 - accuracy: 0.9966 - val_loss: 1.1244 - val_accuracy: 0.8874\n",
      "Epoch 2/100\n",
      "42/42 [==============================] - 3s 78ms/step - loss: 0.0376 - accuracy: 0.9986 - val_loss: 1.3100 - val_accuracy: 0.8830\n",
      "Epoch 3/100\n",
      "42/42 [==============================] - 3s 77ms/step - loss: 0.0346 - accuracy: 0.9986 - val_loss: 1.0513 - val_accuracy: 0.8876\n",
      "Epoch 4/100\n",
      "42/42 [==============================] - 3s 79ms/step - loss: 0.0324 - accuracy: 0.9996 - val_loss: 1.0809 - val_accuracy: 0.8870\n",
      "Epoch 5/100\n",
      "42/42 [==============================] - 3s 79ms/step - loss: 0.0315 - accuracy: 0.9994 - val_loss: 1.1257 - val_accuracy: 0.8864\n",
      "Epoch 6/100\n",
      "42/42 [==============================] - 3s 78ms/step - loss: 0.0304 - accuracy: 0.9994 - val_loss: 1.0981 - val_accuracy: 0.8880\n",
      "Epoch 7/100\n",
      "42/42 [==============================] - 3s 79ms/step - loss: 0.0430 - accuracy: 0.9954 - val_loss: 1.0996 - val_accuracy: 0.8856\n",
      "Epoch 8/100\n",
      "42/42 [==============================] - 3s 78ms/step - loss: 0.0379 - accuracy: 0.9978 - val_loss: 1.0468 - val_accuracy: 0.8806\n",
      "Epoch 9/100\n",
      "42/42 [==============================] - 3s 78ms/step - loss: 0.0428 - accuracy: 0.9956 - val_loss: 1.1127 - val_accuracy: 0.8774\n",
      "Epoch 10/100\n",
      "42/42 [==============================] - 3s 78ms/step - loss: 0.0447 - accuracy: 0.9964 - val_loss: 0.9433 - val_accuracy: 0.8736\n",
      "Epoch 11/100\n",
      "42/42 [==============================] - 3s 78ms/step - loss: 0.0424 - accuracy: 0.9966 - val_loss: 1.1325 - val_accuracy: 0.8718\n",
      "Epoch 12/100\n",
      "42/42 [==============================] - 3s 79ms/step - loss: 0.0374 - accuracy: 0.9964 - val_loss: 1.2745 - val_accuracy: 0.8806\n",
      "Epoch 13/100\n",
      "42/42 [==============================] - 3s 79ms/step - loss: 0.0716 - accuracy: 0.9880 - val_loss: 1.0641 - val_accuracy: 0.8490\n",
      "Epoch 14/100\n",
      "42/42 [==============================] - 3s 78ms/step - loss: 0.0556 - accuracy: 0.9916 - val_loss: 1.0540 - val_accuracy: 0.8784\n",
      "Epoch 15/100\n",
      "42/42 [==============================] - 3s 78ms/step - loss: 0.0452 - accuracy: 0.9956 - val_loss: 0.9382 - val_accuracy: 0.8768\n",
      "Epoch 16/100\n",
      "42/42 [==============================] - 3s 78ms/step - loss: 0.0352 - accuracy: 0.9984 - val_loss: 0.9855 - val_accuracy: 0.8832\n",
      "Epoch 17/100\n",
      "42/42 [==============================] - 3s 78ms/step - loss: 0.0325 - accuracy: 0.9988 - val_loss: 1.0798 - val_accuracy: 0.8826\n",
      "Epoch 18/100\n",
      "42/42 [==============================] - 3s 79ms/step - loss: 0.0401 - accuracy: 0.9964 - val_loss: 1.1387 - val_accuracy: 0.8668\n",
      "Epoch 19/100\n",
      "42/42 [==============================] - 3s 78ms/step - loss: 0.0511 - accuracy: 0.9918 - val_loss: 1.0042 - val_accuracy: 0.8728\n",
      "Epoch 20/100\n",
      "42/42 [==============================] - 3s 79ms/step - loss: 0.0380 - accuracy: 0.9964 - val_loss: 1.1479 - val_accuracy: 0.8836\n",
      "Epoch 21/100\n",
      "42/42 [==============================] - 3s 78ms/step - loss: 0.0393 - accuracy: 0.9966 - val_loss: 1.0544 - val_accuracy: 0.8796\n",
      "Epoch 22/100\n",
      "42/42 [==============================] - 3s 80ms/step - loss: 0.0461 - accuracy: 0.9950 - val_loss: 1.0004 - val_accuracy: 0.8836\n",
      "Epoch 23/100\n",
      "42/42 [==============================] - 3s 79ms/step - loss: 0.0371 - accuracy: 0.9978 - val_loss: 1.1910 - val_accuracy: 0.8758\n",
      "Epoch 24/100\n",
      "42/42 [==============================] - 3s 79ms/step - loss: 0.0377 - accuracy: 0.9966 - val_loss: 1.1806 - val_accuracy: 0.8790\n",
      "Epoch 25/100\n",
      "42/42 [==============================] - 3s 79ms/step - loss: 0.0684 - accuracy: 0.9888 - val_loss: 0.8739 - val_accuracy: 0.8642\n",
      "Epoch 26/100\n",
      "42/42 [==============================] - 3s 79ms/step - loss: 0.0768 - accuracy: 0.9852 - val_loss: 0.7532 - val_accuracy: 0.8760\n",
      "Epoch 27/100\n",
      "42/42 [==============================] - 3s 81ms/step - loss: 0.0469 - accuracy: 0.9940 - val_loss: 1.0632 - val_accuracy: 0.8682\n",
      "Epoch 28/100\n",
      "42/42 [==============================] - 3s 79ms/step - loss: 0.0448 - accuracy: 0.9956 - val_loss: 0.9443 - val_accuracy: 0.8866\n",
      "Epoch 29/100\n",
      "42/42 [==============================] - 3s 78ms/step - loss: 0.0381 - accuracy: 0.9972 - val_loss: 1.0421 - val_accuracy: 0.8846\n",
      "Epoch 30/100\n",
      "42/42 [==============================] - 3s 81ms/step - loss: 0.0366 - accuracy: 0.9976 - val_loss: 1.0484 - val_accuracy: 0.8868\n",
      "Epoch 31/100\n",
      "42/42 [==============================] - 3s 83ms/step - loss: 0.0299 - accuracy: 0.9992 - val_loss: 1.0683 - val_accuracy: 0.8832\n",
      "Epoch 32/100\n",
      "42/42 [==============================] - 3s 80ms/step - loss: 0.0303 - accuracy: 0.9984 - val_loss: 1.2040 - val_accuracy: 0.8838\n",
      "Epoch 33/100\n",
      "42/42 [==============================] - 3s 77ms/step - loss: 0.0356 - accuracy: 0.9974 - val_loss: 1.1525 - val_accuracy: 0.8776\n",
      "Epoch 34/100\n",
      "42/42 [==============================] - 3s 78ms/step - loss: 0.0380 - accuracy: 0.9966 - val_loss: 1.1273 - val_accuracy: 0.8882\n",
      "Epoch 35/100\n",
      "42/42 [==============================] - 3s 78ms/step - loss: 0.0320 - accuracy: 0.9984 - val_loss: 1.1400 - val_accuracy: 0.8842\n",
      "Epoch 36/100\n",
      "42/42 [==============================] - 3s 77ms/step - loss: 0.0311 - accuracy: 0.9988 - val_loss: 1.1156 - val_accuracy: 0.8802\n",
      "63/63 [==============================] - 0s 4ms/step - loss: 1.2410 - accuracy: 0.8825\n",
      "Epoch 1/100\n",
      "39/39 [==============================] - 3s 84ms/step - loss: 0.0404 - accuracy: 0.9954 - val_loss: 1.0501 - val_accuracy: 0.8826\n",
      "Epoch 2/100\n",
      "39/39 [==============================] - 3s 83ms/step - loss: 0.0340 - accuracy: 0.9976 - val_loss: 1.0364 - val_accuracy: 0.8834\n",
      "Epoch 3/100\n",
      "39/39 [==============================] - 3s 83ms/step - loss: 0.0493 - accuracy: 0.9946 - val_loss: 0.9817 - val_accuracy: 0.8852\n",
      "Epoch 4/100\n",
      "39/39 [==============================] - 3s 82ms/step - loss: 0.0416 - accuracy: 0.9962 - val_loss: 0.9656 - val_accuracy: 0.8810\n",
      "Epoch 5/100\n",
      "39/39 [==============================] - 3s 82ms/step - loss: 0.0487 - accuracy: 0.9952 - val_loss: 0.9053 - val_accuracy: 0.8812\n",
      "Epoch 6/100\n",
      "39/39 [==============================] - 3s 86ms/step - loss: 0.0378 - accuracy: 0.9976 - val_loss: 1.0313 - val_accuracy: 0.8900\n",
      "Epoch 7/100\n",
      "39/39 [==============================] - 3s 86ms/step - loss: 0.0309 - accuracy: 0.9990 - val_loss: 1.1507 - val_accuracy: 0.8920\n",
      "Epoch 8/100\n",
      "39/39 [==============================] - 3s 83ms/step - loss: 0.0355 - accuracy: 0.9968 - val_loss: 1.1276 - val_accuracy: 0.8826\n",
      "Epoch 9/100\n",
      "39/39 [==============================] - 3s 83ms/step - loss: 0.0298 - accuracy: 0.9990 - val_loss: 1.0524 - val_accuracy: 0.8874\n",
      "Epoch 10/100\n",
      "39/39 [==============================] - 3s 83ms/step - loss: 0.0287 - accuracy: 0.9992 - val_loss: 1.1269 - val_accuracy: 0.8854\n",
      "Epoch 11/100\n",
      "39/39 [==============================] - 3s 84ms/step - loss: 0.0294 - accuracy: 0.9992 - val_loss: 1.1599 - val_accuracy: 0.8866\n",
      "Epoch 12/100\n",
      "39/39 [==============================] - 3s 82ms/step - loss: 0.0266 - accuracy: 0.9996 - val_loss: 1.2349 - val_accuracy: 0.8834\n",
      "Epoch 13/100\n",
      "39/39 [==============================] - 3s 83ms/step - loss: 0.0318 - accuracy: 0.9982 - val_loss: 1.2065 - val_accuracy: 0.8832\n",
      "Epoch 14/100\n",
      "39/39 [==============================] - 3s 83ms/step - loss: 0.0390 - accuracy: 0.9946 - val_loss: 1.2051 - val_accuracy: 0.8794\n",
      "Epoch 15/100\n",
      "39/39 [==============================] - 3s 83ms/step - loss: 0.0370 - accuracy: 0.9968 - val_loss: 1.1958 - val_accuracy: 0.8820\n",
      "63/63 [==============================] - 0s 4ms/step - loss: 1.3857 - accuracy: 0.8720\n",
      "Epoch 1/100\n",
      "36/36 [==============================] - 3s 90ms/step - loss: 0.0527 - accuracy: 0.9914 - val_loss: 1.0480 - val_accuracy: 0.8760\n",
      "Epoch 2/100\n",
      "36/36 [==============================] - 3s 90ms/step - loss: 0.0440 - accuracy: 0.9950 - val_loss: 1.0329 - val_accuracy: 0.8716\n",
      "Epoch 3/100\n",
      "36/36 [==============================] - 3s 91ms/step - loss: 0.0445 - accuracy: 0.9944 - val_loss: 0.9585 - val_accuracy: 0.8868\n",
      "Epoch 4/100\n",
      "36/36 [==============================] - 3s 89ms/step - loss: 0.0322 - accuracy: 0.9994 - val_loss: 1.1483 - val_accuracy: 0.8886\n",
      "Epoch 5/100\n",
      "36/36 [==============================] - 3s 89ms/step - loss: 0.0522 - accuracy: 0.9934 - val_loss: 0.9699 - val_accuracy: 0.8804\n",
      "Epoch 6/100\n",
      "36/36 [==============================] - 3s 88ms/step - loss: 0.0519 - accuracy: 0.9918 - val_loss: 0.9097 - val_accuracy: 0.8768\n",
      "Epoch 7/100\n",
      "36/36 [==============================] - 3s 88ms/step - loss: 0.0329 - accuracy: 0.9982 - val_loss: 0.9525 - val_accuracy: 0.8840\n",
      "Epoch 8/100\n",
      "36/36 [==============================] - 3s 88ms/step - loss: 0.0336 - accuracy: 0.9984 - val_loss: 1.0375 - val_accuracy: 0.8788\n",
      "Epoch 9/100\n",
      "36/36 [==============================] - 3s 88ms/step - loss: 0.0333 - accuracy: 0.9972 - val_loss: 1.0677 - val_accuracy: 0.8788\n",
      "Epoch 10/100\n",
      "36/36 [==============================] - 3s 89ms/step - loss: 0.0430 - accuracy: 0.9946 - val_loss: 1.0333 - val_accuracy: 0.8808\n",
      "Epoch 11/100\n",
      "36/36 [==============================] - 3s 89ms/step - loss: 0.0458 - accuracy: 0.9934 - val_loss: 0.9296 - val_accuracy: 0.8738\n",
      "Epoch 12/100\n",
      "36/36 [==============================] - 3s 89ms/step - loss: 0.0372 - accuracy: 0.9952 - val_loss: 0.9019 - val_accuracy: 0.8810\n",
      "Epoch 13/100\n",
      "36/36 [==============================] - 3s 91ms/step - loss: 0.0307 - accuracy: 0.9982 - val_loss: 0.9294 - val_accuracy: 0.8880\n",
      "Epoch 14/100\n",
      "36/36 [==============================] - 3s 90ms/step - loss: 0.0268 - accuracy: 0.9998 - val_loss: 1.0206 - val_accuracy: 0.8864\n",
      "Epoch 15/100\n",
      "36/36 [==============================] - 3s 89ms/step - loss: 0.0248 - accuracy: 0.9998 - val_loss: 1.0692 - val_accuracy: 0.8858\n",
      "Epoch 16/100\n",
      "36/36 [==============================] - 3s 91ms/step - loss: 0.0234 - accuracy: 1.0000 - val_loss: 1.1348 - val_accuracy: 0.8898\n",
      "Epoch 17/100\n",
      "36/36 [==============================] - 3s 90ms/step - loss: 0.0223 - accuracy: 1.0000 - val_loss: 1.1700 - val_accuracy: 0.8894\n",
      "Epoch 18/100\n",
      "36/36 [==============================] - 3s 91ms/step - loss: 0.0219 - accuracy: 1.0000 - val_loss: 1.1981 - val_accuracy: 0.8878\n",
      "Epoch 19/100\n",
      "36/36 [==============================] - 3s 90ms/step - loss: 0.0216 - accuracy: 0.9998 - val_loss: 1.2058 - val_accuracy: 0.8892\n",
      "Epoch 20/100\n",
      "36/36 [==============================] - 3s 89ms/step - loss: 0.0209 - accuracy: 1.0000 - val_loss: 1.2423 - val_accuracy: 0.8900\n",
      "Epoch 21/100\n",
      "36/36 [==============================] - 3s 91ms/step - loss: 0.0204 - accuracy: 0.9998 - val_loss: 1.2235 - val_accuracy: 0.8870\n",
      "Epoch 22/100\n",
      "36/36 [==============================] - 3s 91ms/step - loss: 0.0211 - accuracy: 0.9994 - val_loss: 1.1585 - val_accuracy: 0.8830\n",
      "63/63 [==============================] - 0s 5ms/step - loss: 1.3557 - accuracy: 0.8730\n",
      "Epoch 1/100\n",
      "34/34 [==============================] - 3s 98ms/step - loss: 0.0208 - accuracy: 0.9994 - val_loss: 1.2538 - val_accuracy: 0.8796\n",
      "Epoch 2/100\n",
      "34/34 [==============================] - 3s 97ms/step - loss: 0.0206 - accuracy: 0.9998 - val_loss: 1.2291 - val_accuracy: 0.8856\n",
      "Epoch 3/100\n",
      "34/34 [==============================] - 3s 97ms/step - loss: 0.0208 - accuracy: 1.0000 - val_loss: 1.3273 - val_accuracy: 0.8856\n",
      "Epoch 4/100\n",
      "34/34 [==============================] - 3s 96ms/step - loss: 0.0201 - accuracy: 1.0000 - val_loss: 1.3467 - val_accuracy: 0.8870\n",
      "Epoch 5/100\n",
      "34/34 [==============================] - 3s 97ms/step - loss: 0.0192 - accuracy: 1.0000 - val_loss: 1.3701 - val_accuracy: 0.8878\n",
      "Epoch 6/100\n",
      "34/34 [==============================] - 3s 97ms/step - loss: 0.0206 - accuracy: 0.9994 - val_loss: 1.3848 - val_accuracy: 0.8866\n",
      "Epoch 7/100\n",
      "34/34 [==============================] - 3s 96ms/step - loss: 0.0275 - accuracy: 0.9972 - val_loss: 1.2587 - val_accuracy: 0.8780\n",
      "Epoch 8/100\n",
      "34/34 [==============================] - 3s 96ms/step - loss: 0.0486 - accuracy: 0.9918 - val_loss: 0.9987 - val_accuracy: 0.8706\n",
      "Epoch 9/100\n",
      "34/34 [==============================] - 3s 96ms/step - loss: 0.0455 - accuracy: 0.9922 - val_loss: 0.9330 - val_accuracy: 0.8782\n",
      "Epoch 10/100\n",
      "34/34 [==============================] - 3s 97ms/step - loss: 0.0353 - accuracy: 0.9958 - val_loss: 0.9993 - val_accuracy: 0.8872\n",
      "Epoch 11/100\n",
      "34/34 [==============================] - 3s 96ms/step - loss: 0.0247 - accuracy: 0.9994 - val_loss: 1.0787 - val_accuracy: 0.8858\n",
      "Epoch 12/100\n",
      "34/34 [==============================] - 3s 97ms/step - loss: 0.0260 - accuracy: 0.9986 - val_loss: 1.1239 - val_accuracy: 0.8850\n",
      "Epoch 13/100\n",
      "34/34 [==============================] - 3s 96ms/step - loss: 0.0275 - accuracy: 0.9982 - val_loss: 1.0737 - val_accuracy: 0.8828\n",
      "Epoch 14/100\n",
      "34/34 [==============================] - 3s 98ms/step - loss: 0.0319 - accuracy: 0.9960 - val_loss: 1.0859 - val_accuracy: 0.8786\n",
      "Epoch 15/100\n",
      "34/34 [==============================] - 3s 96ms/step - loss: 0.0307 - accuracy: 0.9970 - val_loss: 1.0351 - val_accuracy: 0.8790\n",
      "Epoch 16/100\n",
      "34/34 [==============================] - 3s 95ms/step - loss: 0.0358 - accuracy: 0.9960 - val_loss: 1.0099 - val_accuracy: 0.8782\n",
      "Epoch 17/100\n",
      "34/34 [==============================] - 3s 97ms/step - loss: 0.0271 - accuracy: 0.9980 - val_loss: 1.1481 - val_accuracy: 0.8814\n",
      "Epoch 18/100\n",
      "34/34 [==============================] - 3s 97ms/step - loss: 0.0258 - accuracy: 0.9986 - val_loss: 1.1559 - val_accuracy: 0.8780\n",
      "Epoch 19/100\n",
      "34/34 [==============================] - 3s 96ms/step - loss: 0.0412 - accuracy: 0.9938 - val_loss: 1.4267 - val_accuracy: 0.8500\n",
      "63/63 [==============================] - 0s 5ms/step - loss: 1.6302 - accuracy: 0.8410\n"
     ]
    }
   ],
   "source": [
    "model = Sequential()\n",
    "model.add(Conv2D(64, kernel_size=(3,3), activation='relu', kernel_regularizer=keras.regularizers.l1_l2(.001), \n",
    "                  padding='same', input_shape=(32,32,3)))\n",
    "model.add(MaxPooling2D((2, 2)))\n",
    "model.add(Conv2D(64, (3, 3), activation='relu'))\n",
    "model.add(MaxPooling2D((2, 2)))\n",
    "model.add(Conv2D(64, (3, 3), activation='relu'))\n",
    "model.add(Flatten())\n",
    "model.add(Dense(64, activation='relu'))\n",
    "model.add(Dropout(rate=.5))\n",
    "model.add(Dense(10))\n",
    "\n",
    "early_stopping = EarlyStopping(monitor='val_loss', patience=10)\n",
    "\n",
    "model.compile(optimizer='adam',\n",
    "               loss=tf.keras.losses.SparseCategoricalCrossentropy(from_logits=True),\n",
    "               metrics=['accuracy'])\n",
    "\n",
    "batch_size = [50,60,70,80,90,100,110,120,130,140,150]\n",
    "accuracy = []\n",
    "for x in batch_size:\n",
    "    history = model.fit(Xtrain, ytrain, epochs=100, batch_size=x,\n",
    "                        validation_data=(Xvalid, yvalid),\n",
    "                        callbacks=[early_stopping])\n",
    "    accuracy.append(model.evaluate(Xtest, ytest)[1])"
   ]
  },
  {
   "cell_type": "code",
   "execution_count": 71,
   "metadata": {},
   "outputs": [
    {
     "data": {
      "text/plain": [
       "[<matplotlib.lines.Line2D at 0x19c411dfb80>]"
      ]
     },
     "execution_count": 71,
     "metadata": {},
     "output_type": "execute_result"
    },
    {
     "data": {
      "image/png": "[encoded data removed]",
      "text/plain": [
       "<Figure size 432x288 with 1 Axes>"
      ]
     },
     "metadata": {
      "needs_background": "light"
     },
     "output_type": "display_data"
    }
   ],
   "source": [
    "graph = pd.DataFrame({'batch_size':batch_size,'accuracy':accuracy})\n",
    "plt.plot(graph['batch_size'],graph['accuracy'])"
   ]
  },
  {
   "cell_type": "code",
   "execution_count": 80,
   "metadata": {},
   "outputs": [
    {
     "data": {
      "text/plain": [
       "7    120\n",
       "Name: batch_size, dtype: int64"
      ]
     },
     "execution_count": 80,
     "metadata": {},
     "output_type": "execute_result"
    }
   ],
   "source": [
    "best_batch = graph['batch_size'].loc[graph['accuracy'] == max(graph['accuracy'])]\n",
    "best_batch"
   ]
  },
  {
   "cell_type": "code",
   "execution_count": 90,
   "metadata": {},
   "outputs": [
    {
     "name": "stdout",
     "output_type": "stream",
     "text": [
      "Epoch 1/100\n",
      "42/42 [==============================] - 4s 81ms/step - loss: 3.2906 - accuracy: 0.4974 - val_loss: 0.7777 - val_accuracy: 0.6378\n",
      "Epoch 2/100\n",
      "42/42 [==============================] - 3s 79ms/step - loss: 0.9903 - accuracy: 0.5612 - val_loss: 0.7407 - val_accuracy: 0.6696\n",
      "Epoch 3/100\n",
      "42/42 [==============================] - 3s 79ms/step - loss: 0.8769 - accuracy: 0.6208 - val_loss: 0.7240 - val_accuracy: 0.6696\n",
      "Epoch 4/100\n",
      "42/42 [==============================] - 3s 78ms/step - loss: 0.8130 - accuracy: 0.6410 - val_loss: 0.6793 - val_accuracy: 0.7272\n",
      "Epoch 5/100\n",
      "42/42 [==============================] - 3s 79ms/step - loss: 0.7657 - accuracy: 0.6750 - val_loss: 0.6709 - val_accuracy: 0.7130\n",
      "Epoch 6/100\n",
      "42/42 [==============================] - 3s 79ms/step - loss: 0.7278 - accuracy: 0.7008 - val_loss: 0.6253 - val_accuracy: 0.7608\n",
      "Epoch 7/100\n",
      "42/42 [==============================] - 3s 80ms/step - loss: 0.6940 - accuracy: 0.7172 - val_loss: 0.6275 - val_accuracy: 0.7610\n",
      "Epoch 8/100\n",
      "42/42 [==============================] - 3s 80ms/step - loss: 0.6464 - accuracy: 0.7428 - val_loss: 0.5515 - val_accuracy: 0.8076\n",
      "Epoch 9/100\n",
      "42/42 [==============================] - 3s 77ms/step - loss: 0.6568 - accuracy: 0.7428 - val_loss: 0.5984 - val_accuracy: 0.7898\n",
      "Epoch 10/100\n",
      "42/42 [==============================] - 3s 78ms/step - loss: 0.6214 - accuracy: 0.7586 - val_loss: 0.5444 - val_accuracy: 0.8116\n",
      "Epoch 11/100\n",
      "42/42 [==============================] - 3s 81ms/step - loss: 0.5841 - accuracy: 0.7926 - val_loss: 0.5572 - val_accuracy: 0.7984\n",
      "Epoch 12/100\n",
      "42/42 [==============================] - 3s 82ms/step - loss: 0.5775 - accuracy: 0.7920 - val_loss: 0.5083 - val_accuracy: 0.8268\n",
      "Epoch 13/100\n",
      "42/42 [==============================] - 3s 79ms/step - loss: 0.5687 - accuracy: 0.8000 - val_loss: 0.5105 - val_accuracy: 0.8214\n",
      "Epoch 14/100\n",
      "42/42 [==============================] - 3s 82ms/step - loss: 0.5721 - accuracy: 0.8060 - val_loss: 0.5164 - val_accuracy: 0.8268\n",
      "Epoch 15/100\n",
      "42/42 [==============================] - 3s 80ms/step - loss: 0.5272 - accuracy: 0.8152 - val_loss: 0.4735 - val_accuracy: 0.8422\n",
      "Epoch 16/100\n",
      "42/42 [==============================] - 3s 78ms/step - loss: 0.4795 - accuracy: 0.8512 - val_loss: 0.4724 - val_accuracy: 0.8446\n",
      "Epoch 17/100\n",
      "42/42 [==============================] - 3s 78ms/step - loss: 0.4783 - accuracy: 0.8460 - val_loss: 0.4685 - val_accuracy: 0.8468\n",
      "Epoch 18/100\n",
      "42/42 [==============================] - 3s 78ms/step - loss: 0.4620 - accuracy: 0.8554 - val_loss: 0.4513 - val_accuracy: 0.8612\n",
      "Epoch 19/100\n",
      "42/42 [==============================] - 3s 78ms/step - loss: 0.4408 - accuracy: 0.8626 - val_loss: 0.4363 - val_accuracy: 0.8674\n",
      "Epoch 20/100\n",
      "42/42 [==============================] - 3s 78ms/step - loss: 0.4146 - accuracy: 0.8734 - val_loss: 0.4357 - val_accuracy: 0.8672\n",
      "Epoch 21/100\n",
      "42/42 [==============================] - 3s 78ms/step - loss: 0.4121 - accuracy: 0.8774 - val_loss: 0.4247 - val_accuracy: 0.8662\n",
      "Epoch 22/100\n",
      "42/42 [==============================] - 3s 79ms/step - loss: 0.3879 - accuracy: 0.8894 - val_loss: 0.5539 - val_accuracy: 0.8170\n",
      "Epoch 23/100\n",
      "42/42 [==============================] - 3s 78ms/step - loss: 0.3804 - accuracy: 0.8926 - val_loss: 0.4294 - val_accuracy: 0.8762\n",
      "Epoch 24/100\n",
      "42/42 [==============================] - 3s 78ms/step - loss: 0.3781 - accuracy: 0.8916 - val_loss: 0.4131 - val_accuracy: 0.8774\n",
      "Epoch 25/100\n",
      "42/42 [==============================] - 3s 78ms/step - loss: 0.3458 - accuracy: 0.9038 - val_loss: 0.4088 - val_accuracy: 0.8870\n",
      "Epoch 26/100\n",
      "42/42 [==============================] - 3s 78ms/step - loss: 0.3745 - accuracy: 0.8872 - val_loss: 0.4366 - val_accuracy: 0.8638\n",
      "Epoch 27/100\n",
      "42/42 [==============================] - 3s 78ms/step - loss: 0.3316 - accuracy: 0.9072 - val_loss: 0.4324 - val_accuracy: 0.8752\n",
      "Epoch 28/100\n",
      "42/42 [==============================] - 3s 79ms/step - loss: 0.3221 - accuracy: 0.9154 - val_loss: 0.4645 - val_accuracy: 0.8816\n",
      "Epoch 29/100\n",
      "42/42 [==============================] - 3s 75ms/step - loss: 0.3338 - accuracy: 0.9026 - val_loss: 0.4552 - val_accuracy: 0.8678\n",
      "Epoch 30/100\n",
      "42/42 [==============================] - 3s 79ms/step - loss: 0.2765 - accuracy: 0.9334 - val_loss: 0.4720 - val_accuracy: 0.8878\n",
      "Epoch 31/100\n",
      "42/42 [==============================] - 3s 77ms/step - loss: 0.2691 - accuracy: 0.9350 - val_loss: 0.4362 - val_accuracy: 0.8908\n",
      "Epoch 32/100\n",
      "42/42 [==============================] - 3s 77ms/step - loss: 0.2503 - accuracy: 0.9402 - val_loss: 0.4828 - val_accuracy: 0.8802\n",
      "Epoch 33/100\n",
      "42/42 [==============================] - 3s 75ms/step - loss: 0.2734 - accuracy: 0.9286 - val_loss: 0.4698 - val_accuracy: 0.8854\n",
      "Epoch 34/100\n",
      "42/42 [==============================] - 3s 75ms/step - loss: 0.2632 - accuracy: 0.9328 - val_loss: 0.4431 - val_accuracy: 0.8778\n",
      "Epoch 35/100\n",
      "42/42 [==============================] - 3s 75ms/step - loss: 0.2333 - accuracy: 0.9424 - val_loss: 0.4499 - val_accuracy: 0.8876\n",
      "63/63 [==============================] - 0s 5ms/step - loss: 0.4661 - accuracy: 0.8910\n"
     ]
    },
    {
     "data": {
      "text/plain": [
       "[0.4660663306713104, 0.890999972820282]"
      ]
     },
     "execution_count": 90,
     "metadata": {},
     "output_type": "execute_result"
    }
   ],
   "source": [
    "model = Sequential()\n",
    "model.add(Conv2D(64, kernel_size=(3,3), activation='relu', kernel_regularizer=keras.regularizers.l1_l2(.001), \n",
    "                  padding='same', input_shape=(32,32,3)))\n",
    "model.add(MaxPooling2D((2, 2)))\n",
    "model.add(Conv2D(64, (3, 3), activation='relu'))\n",
    "model.add(MaxPooling2D((2, 2)))\n",
    "model.add(Conv2D(64, (3, 3), activation='relu'))\n",
    "model.add(Flatten())\n",
    "model.add(Dense(64, activation='relu'))\n",
    "model.add(Dropout(rate=.5))\n",
    "model.add(Dense(10))\n",
    "\n",
    "early_stopping = EarlyStopping(monitor='val_loss', patience=10)\n",
    "\n",
    "model.compile(optimizer='adam',\n",
    "               loss=tf.keras.losses.SparseCategoricalCrossentropy(from_logits=True),\n",
    "               metrics=['accuracy'])\n",
    "history = model.fit(Xtrain, ytrain, epochs=100, batch_size=120,\n",
    "                        validation_data=(Xvalid, yvalid),\n",
    "                        callbacks=[early_stopping])\n",
    "model.evaluate(Xtest, ytest)"
   ]
  },
  {
   "cell_type": "code",
   "execution_count": 91,
   "metadata": {},
   "outputs": [
    {
     "data": {
      "text/plain": [
       "<matplotlib.legend.Legend at 0x19c3a2baa90>"
      ]
     },
     "execution_count": 91,
     "metadata": {},
     "output_type": "execute_result"
    },
    {
     "data": {
      "image/png": "[encoded data removed]",
      "text/plain": [
       "<Figure size 432x288 with 1 Axes>"
      ]
     },
     "metadata": {
      "needs_background": "light"
     },
     "output_type": "display_data"
    }
   ],
   "source": [
    "plt.plot(history.history['accuracy'], label='Training accuracy')\n",
    "\n",
    "plt.plot(history.history['val_accuracy'], label='Validation accuracy')\n",
    "plt.legend()"
   ]
  },
  {
   "cell_type": "code",
   "execution_count": 94,
   "metadata": {},
   "outputs": [
    {
     "ename": "AttributeError",
     "evalue": "'Sequential' object has no attribute 'predict_classes'",
     "output_type": "error",
     "traceback": [
      "\u001b[1;31m---------------------------------------------------------------------------\u001b[0m",
      "\u001b[1;31mAttributeError\u001b[0m                            Traceback (most recent call last)",
      "\u001b[1;32m~\\AppData\\Local\\Temp/ipykernel_5184/1885538761.py\u001b[0m in \u001b[0;36m<module>\u001b[1;34m\u001b[0m\n\u001b[0;32m      1\u001b[0m \u001b[1;32mfrom\u001b[0m \u001b[0msklearn\u001b[0m\u001b[1;33m.\u001b[0m\u001b[0mmetrics\u001b[0m \u001b[1;32mimport\u001b[0m \u001b[0mconfusion_matrix\u001b[0m\u001b[1;33m,\u001b[0m \u001b[0maccuracy_score\u001b[0m\u001b[1;33m,\u001b[0m\u001b[0;31m\\\u001b[0m\u001b[1;33m\u001b[0m\u001b[1;33m\u001b[0m\u001b[0m\n\u001b[0;32m      2\u001b[0m     \u001b[0mrecall_score\u001b[0m\u001b[1;33m,\u001b[0m \u001b[0mprecision_score\u001b[0m\u001b[1;33m,\u001b[0m \u001b[0mroc_curve\u001b[0m\u001b[1;33m,\u001b[0m \u001b[0mroc_auc_score\u001b[0m\u001b[1;33m\u001b[0m\u001b[1;33m\u001b[0m\u001b[0m\n\u001b[1;32m----> 3\u001b[1;33m \u001b[0mpreds\u001b[0m \u001b[1;33m=\u001b[0m \u001b[0mmodel\u001b[0m\u001b[1;33m.\u001b[0m\u001b[0mpredict_classes\u001b[0m\u001b[1;33m(\u001b[0m\u001b[0mXtest\u001b[0m\u001b[1;33m,\u001b[0m \u001b[0mverbose\u001b[0m\u001b[1;33m=\u001b[0m\u001b[1;36m0\u001b[0m\u001b[1;33m)\u001b[0m\u001b[1;33m\u001b[0m\u001b[1;33m\u001b[0m\u001b[0m\n\u001b[0m\u001b[0;32m      4\u001b[0m \u001b[0mytest\u001b[0m\u001b[1;33m\u001b[0m\u001b[1;33m\u001b[0m\u001b[0m\n\u001b[0;32m      5\u001b[0m \u001b[0mpreds\u001b[0m\u001b[1;33m\u001b[0m\u001b[1;33m\u001b[0m\u001b[0m\n",
      "\u001b[1;31mAttributeError\u001b[0m: 'Sequential' object has no attribute 'predict_classes'"
     ]
    }
   ],
   "source": [
    "from sklearn.metrics import confusion_matrix, accuracy_score,\\\n",
    "    recall_score, precision_score, roc_curve, roc_auc_score\n",
    "preds = model.predict_classes(Xtest, verbose=0)\n",
    "ytest\n",
    "preds\n",
    "\n"
   ]
  },
  {
   "cell_type": "code",
   "execution_count": 85,
   "metadata": {},
   "outputs": [
    {
     "ename": "ValueError",
     "evalue": "Classification metrics can't handle a mix of binary and unknown targets",
     "output_type": "error",
     "traceback": [
      "\u001b[1;31m---------------------------------------------------------------------------\u001b[0m",
      "\u001b[1;31mValueError\u001b[0m                                Traceback (most recent call last)",
      "\u001b[1;32m~\\AppData\\Local\\Temp/ipykernel_5184/727539062.py\u001b[0m in \u001b[0;36m<module>\u001b[1;34m\u001b[0m\n\u001b[1;32m----> 1\u001b[1;33m \u001b[0mtn\u001b[0m\u001b[1;33m,\u001b[0m \u001b[0mfp\u001b[0m\u001b[1;33m,\u001b[0m \u001b[0mfn\u001b[0m\u001b[1;33m,\u001b[0m \u001b[0mtp\u001b[0m \u001b[1;33m=\u001b[0m \u001b[0mconfusion_matrix\u001b[0m\u001b[1;33m(\u001b[0m\u001b[0mytest\u001b[0m\u001b[1;33m,\u001b[0m \u001b[0mpreds\u001b[0m\u001b[1;33m)\u001b[0m\u001b[1;33m.\u001b[0m\u001b[0mravel\u001b[0m\u001b[1;33m(\u001b[0m\u001b[1;33m)\u001b[0m\u001b[1;33m\u001b[0m\u001b[1;33m\u001b[0m\u001b[0m\n\u001b[0m",
      "\u001b[1;32m~\\AppData\\Local\\Packages\\PythonSoftwareFoundation.Python.3.9_qbz5n2kfra8p0\\LocalCache\\local-packages\\Python39\\site-packages\\sklearn\\metrics\\_classification.py\u001b[0m in \u001b[0;36mconfusion_matrix\u001b[1;34m(y_true, y_pred, labels, sample_weight, normalize)\u001b[0m\n\u001b[0;32m    300\u001b[0m \u001b[1;33m\u001b[0m\u001b[0m\n\u001b[0;32m    301\u001b[0m     \"\"\"\n\u001b[1;32m--> 302\u001b[1;33m     \u001b[0my_type\u001b[0m\u001b[1;33m,\u001b[0m \u001b[0my_true\u001b[0m\u001b[1;33m,\u001b[0m \u001b[0my_pred\u001b[0m \u001b[1;33m=\u001b[0m \u001b[0m_check_targets\u001b[0m\u001b[1;33m(\u001b[0m\u001b[0my_true\u001b[0m\u001b[1;33m,\u001b[0m \u001b[0my_pred\u001b[0m\u001b[1;33m)\u001b[0m\u001b[1;33m\u001b[0m\u001b[1;33m\u001b[0m\u001b[0m\n\u001b[0m\u001b[0;32m    303\u001b[0m     \u001b[1;32mif\u001b[0m \u001b[0my_type\u001b[0m \u001b[1;32mnot\u001b[0m \u001b[1;32min\u001b[0m \u001b[1;33m(\u001b[0m\u001b[1;34m\"binary\"\u001b[0m\u001b[1;33m,\u001b[0m \u001b[1;34m\"multiclass\"\u001b[0m\u001b[1;33m)\u001b[0m\u001b[1;33m:\u001b[0m\u001b[1;33m\u001b[0m\u001b[1;33m\u001b[0m\u001b[0m\n\u001b[0;32m    304\u001b[0m         \u001b[1;32mraise\u001b[0m \u001b[0mValueError\u001b[0m\u001b[1;33m(\u001b[0m\u001b[1;34m\"%s is not supported\"\u001b[0m \u001b[1;33m%\u001b[0m \u001b[0my_type\u001b[0m\u001b[1;33m)\u001b[0m\u001b[1;33m\u001b[0m\u001b[1;33m\u001b[0m\u001b[0m\n",
      "\u001b[1;32m~\\AppData\\Local\\Packages\\PythonSoftwareFoundation.Python.3.9_qbz5n2kfra8p0\\LocalCache\\local-packages\\Python39\\site-packages\\sklearn\\metrics\\_classification.py\u001b[0m in \u001b[0;36m_check_targets\u001b[1;34m(y_true, y_pred)\u001b[0m\n\u001b[0;32m     91\u001b[0m \u001b[1;33m\u001b[0m\u001b[0m\n\u001b[0;32m     92\u001b[0m     \u001b[1;32mif\u001b[0m \u001b[0mlen\u001b[0m\u001b[1;33m(\u001b[0m\u001b[0my_type\u001b[0m\u001b[1;33m)\u001b[0m \u001b[1;33m>\u001b[0m \u001b[1;36m1\u001b[0m\u001b[1;33m:\u001b[0m\u001b[1;33m\u001b[0m\u001b[1;33m\u001b[0m\u001b[0m\n\u001b[1;32m---> 93\u001b[1;33m         raise ValueError(\n\u001b[0m\u001b[0;32m     94\u001b[0m             \"Classification metrics can't handle a mix of {0} and {1} targets\".format(\n\u001b[0;32m     95\u001b[0m                 \u001b[0mtype_true\u001b[0m\u001b[1;33m,\u001b[0m \u001b[0mtype_pred\u001b[0m\u001b[1;33m\u001b[0m\u001b[1;33m\u001b[0m\u001b[0m\n",
      "\u001b[1;31mValueError\u001b[0m: Classification metrics can't handle a mix of binary and unknown targets"
     ]
    }
   ],
   "source": [
    "tn, fp, fn, tp = confusion_matrix(ytest, preds).ravel()"
   ]
  }
 ],
 "metadata": {
  "interpreter": {
   "hash": "f620213ce0b9ef077507348f9327221f48010fef20ec248d7867d04206e29b1a"
  },
  "kernelspec": {
   "display_name": "Python 3.9.7 64-bit (windows store)",
   "name": "python3"
  },
  "language_info": {
   "codemirror_mode": {
    "name": "ipython",
    "version": 3
   },
   "file_extension": ".py",
   "mimetype": "text/x-python",
   "name": "python",
   "nbconvert_exporter": "python",
   "pygments_lexer": "ipython3",
   "version": "3.9.7"
  },
  "orig_nbformat": 4
 },
 "nbformat": 4,
 "nbformat_minor": 2
}
